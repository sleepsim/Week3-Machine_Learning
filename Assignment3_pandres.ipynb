{
  "nbformat": 4,
  "nbformat_minor": 0,
  "metadata": {
    "colab": {
      "provenance": [],
      "toc_visible": true,
      "gpuType": "T4",
      "authorship_tag": "ABX9TyPVY/a94+4ZUfGfklHRfFGZ",
      "include_colab_link": true
    },
    "kernelspec": {
      "name": "python3",
      "display_name": "Python 3"
    },
    "language_info": {
      "name": "python"
    },
    "accelerator": "GPU"
  },
  "cells": [
    {
      "cell_type": "markdown",
      "metadata": {
        "id": "view-in-github",
        "colab_type": "text"
      },
      "source": [
        "<a href=\"https://colab.research.google.com/github/sleepsim/Week3-Machine_Learning/blob/main/Assignment3_pandres.ipynb\" target=\"_parent\"><img src=\"https://colab.research.google.com/assets/colab-badge.svg\" alt=\"Open In Colab\"/></a>"
      ]
    },
    {
      "cell_type": "markdown",
      "source": [
        "#Intro\n",
        "\n",
        "Assignment 3 - IAT481 SP 2024\\\n",
        "Pocholo Andres\\\n",
        "pandres@sfu.ca\\\n",
        "github.com/sleepsim\n",
        "\n",
        "https://github.com/sleepsim/Week3-Machine_Learning\n",
        "___\n",
        "\n"
      ],
      "metadata": {
        "id": "vwC77QvKe2m3"
      }
    },
    {
      "cell_type": "markdown",
      "source": [
        "# Initialization"
      ],
      "metadata": {
        "id": "0RooM98Df0zm"
      }
    },
    {
      "cell_type": "code",
      "source": [
        "from google.colab import drive\n",
        "drive.mount('/content/drive')"
      ],
      "metadata": {
        "colab": {
          "base_uri": "https://localhost:8080/"
        },
        "id": "PmNK3jkgb-AD",
        "outputId": "55acba92-33ec-4b54-f011-b78c7b382e1f"
      },
      "execution_count": null,
      "outputs": [
        {
          "output_type": "stream",
          "name": "stdout",
          "text": [
            "Mounted at /content/drive\n"
          ]
        }
      ]
    },
    {
      "cell_type": "markdown",
      "source": [
        "## Importing Libraries\n",
        "\n",
        "Importing Required libraries"
      ],
      "metadata": {
        "id": "SYHu6ZZKgND_"
      }
    },
    {
      "cell_type": "code",
      "source": [
        "#importing the required libraries\n",
        "import matplotlib.pyplot as plt\n",
        "import pandas as pd\n",
        "import numpy as np\n",
        "import librosa.display\n",
        "import soundfile\n",
        "import os\n",
        "# matplotlib complains about the behaviour of librosa.display, so we'll ignore those warnings:\n",
        "import warnings; warnings.filterwarnings('ignore')\n",
        "\n",
        "#models used\n",
        "from sklearn.ensemble import RandomForestClassifier\n",
        "from sklearn.model_selection import GridSearchCV\n",
        "from joblib import parallel_backend\n",
        "from sklearn.neighbors import KNeighborsClassifier\n",
        "from sklearn.svm import SVC"
      ],
      "metadata": {
        "id": "NshuOZUFf4Ga"
      },
      "execution_count": 1,
      "outputs": []
    },
    {
      "cell_type": "markdown",
      "source": [
        "## Loading files"
      ],
      "metadata": {
        "id": "rDcbKMakgfyl"
      }
    },
    {
      "cell_type": "markdown",
      "source": [
        "Loading Files from Drive"
      ],
      "metadata": {
        "id": "wHynfQKlhDAH"
      }
    },
    {
      "cell_type": "code",
      "source": [
        "features=pd.read_excel('/content/drive/MyDrive/IAT481/featuresCombined.xlsx',index_col=0)\n",
        "emotions=pd.read_excel('/content/drive/MyDrive/IAT481/emotionsCombined.xlsx',index_col=0)"
      ],
      "metadata": {
        "id": "e50SpEI5hFo3"
      },
      "execution_count": null,
      "outputs": []
    },
    {
      "cell_type": "markdown",
      "source": [
        "Loading Files Locally, (for local runtime since my computer is faster than free version of google collab)"
      ],
      "metadata": {
        "id": "xtDiQ590g-W4"
      }
    },
    {
      "cell_type": "code",
      "source": [
        "# Loading locally for local runtime (faster processing than google CPU)\n",
        "features=pd.read_excel(r\"C:\\Users\\Pocholo\\Desktop\\481\\featuresCombined.xlsx\",index_col=0)\n",
        "emotions=pd.read_excel(r\"C:\\Users\\Pocholo\\Desktop\\481\\emotionsCombined.xlsx\",index_col=0)"
      ],
      "metadata": {
        "id": "cia4ZyjGgly0"
      },
      "execution_count": 2,
      "outputs": []
    },
    {
      "cell_type": "markdown",
      "source": [
        "Testing if files are loaded properly"
      ],
      "metadata": {
        "id": "kSOGVmdOifhZ"
      }
    },
    {
      "cell_type": "code",
      "source": [
        "features.head()"
      ],
      "metadata": {
        "colab": {
          "base_uri": "https://localhost:8080/",
          "height": 256
        },
        "id": "gdvge_Rhhs-w",
        "outputId": "8fdc5726-9133-44d5-e0ec-028dd55a5826"
      },
      "execution_count": 3,
      "outputs": [
        {
          "output_type": "execute_result",
          "data": {
            "text/plain": [
              "        0         1         2         3         4         5         6    \\\n",
              "0  0.617466  0.576461  0.569040  0.609814  0.654684  0.701384  0.735561   \n",
              "1  0.623919  0.574488  0.517403  0.513132  0.550291  0.568414  0.568268   \n",
              "2  0.677821  0.616982  0.615782  0.621085  0.626168  0.646080  0.691546   \n",
              "3  0.541733  0.565394  0.591974  0.606679  0.647344  0.677179  0.715182   \n",
              "4  0.473540  0.471911  0.494642  0.486543  0.527230  0.642038  0.701873   \n",
              "\n",
              "        7         8         9    ...       170       171       172       173  \\\n",
              "0  0.717063  0.728129  0.702318  ... -3.581316 -0.467617 -3.222230  0.313375   \n",
              "1  0.579836  0.644346  0.689928  ...  1.126486  3.953426  1.156003  6.056956   \n",
              "2  0.685554  0.722938  0.696742  ... -1.149269  1.404988 -1.316433  3.550398   \n",
              "3  0.705764  0.707652  0.667793  ... -2.528749  0.933915 -4.214124  1.486633   \n",
              "4  0.645157  0.621900  0.605100  ...  1.344774 -0.028760  0.591915  0.167358   \n",
              "\n",
              "        174       175       176       177       178       179  \n",
              "0  3.955157 -0.183977  1.367951  2.254531 -0.198084  4.343905  \n",
              "1  5.954752  3.322112  6.695466  4.928186  3.682733  4.037534  \n",
              "2  3.366586  0.352723  2.582228  2.148702  1.180273  4.521074  \n",
              "3  3.447144  0.343212  1.673163  1.149167 -1.704414  2.925104  \n",
              "4  1.744662 -1.228223 -0.578519  0.850627 -1.625405  0.764073  \n",
              "\n",
              "[5 rows x 180 columns]"
            ],
            "text/html": [
              "<div>\n",
              "<style scoped>\n",
              "    .dataframe tbody tr th:only-of-type {\n",
              "        vertical-align: middle;\n",
              "    }\n",
              "\n",
              "    .dataframe tbody tr th {\n",
              "        vertical-align: top;\n",
              "    }\n",
              "\n",
              "    .dataframe thead th {\n",
              "        text-align: right;\n",
              "    }\n",
              "</style>\n",
              "<table border=\"1\" class=\"dataframe\">\n",
              "  <thead>\n",
              "    <tr style=\"text-align: right;\">\n",
              "      <th></th>\n",
              "      <th>0</th>\n",
              "      <th>1</th>\n",
              "      <th>2</th>\n",
              "      <th>3</th>\n",
              "      <th>4</th>\n",
              "      <th>5</th>\n",
              "      <th>6</th>\n",
              "      <th>7</th>\n",
              "      <th>8</th>\n",
              "      <th>9</th>\n",
              "      <th>...</th>\n",
              "      <th>170</th>\n",
              "      <th>171</th>\n",
              "      <th>172</th>\n",
              "      <th>173</th>\n",
              "      <th>174</th>\n",
              "      <th>175</th>\n",
              "      <th>176</th>\n",
              "      <th>177</th>\n",
              "      <th>178</th>\n",
              "      <th>179</th>\n",
              "    </tr>\n",
              "  </thead>\n",
              "  <tbody>\n",
              "    <tr>\n",
              "      <th>0</th>\n",
              "      <td>0.617466</td>\n",
              "      <td>0.576461</td>\n",
              "      <td>0.569040</td>\n",
              "      <td>0.609814</td>\n",
              "      <td>0.654684</td>\n",
              "      <td>0.701384</td>\n",
              "      <td>0.735561</td>\n",
              "      <td>0.717063</td>\n",
              "      <td>0.728129</td>\n",
              "      <td>0.702318</td>\n",
              "      <td>...</td>\n",
              "      <td>-3.581316</td>\n",
              "      <td>-0.467617</td>\n",
              "      <td>-3.222230</td>\n",
              "      <td>0.313375</td>\n",
              "      <td>3.955157</td>\n",
              "      <td>-0.183977</td>\n",
              "      <td>1.367951</td>\n",
              "      <td>2.254531</td>\n",
              "      <td>-0.198084</td>\n",
              "      <td>4.343905</td>\n",
              "    </tr>\n",
              "    <tr>\n",
              "      <th>1</th>\n",
              "      <td>0.623919</td>\n",
              "      <td>0.574488</td>\n",
              "      <td>0.517403</td>\n",
              "      <td>0.513132</td>\n",
              "      <td>0.550291</td>\n",
              "      <td>0.568414</td>\n",
              "      <td>0.568268</td>\n",
              "      <td>0.579836</td>\n",
              "      <td>0.644346</td>\n",
              "      <td>0.689928</td>\n",
              "      <td>...</td>\n",
              "      <td>1.126486</td>\n",
              "      <td>3.953426</td>\n",
              "      <td>1.156003</td>\n",
              "      <td>6.056956</td>\n",
              "      <td>5.954752</td>\n",
              "      <td>3.322112</td>\n",
              "      <td>6.695466</td>\n",
              "      <td>4.928186</td>\n",
              "      <td>3.682733</td>\n",
              "      <td>4.037534</td>\n",
              "    </tr>\n",
              "    <tr>\n",
              "      <th>2</th>\n",
              "      <td>0.677821</td>\n",
              "      <td>0.616982</td>\n",
              "      <td>0.615782</td>\n",
              "      <td>0.621085</td>\n",
              "      <td>0.626168</td>\n",
              "      <td>0.646080</td>\n",
              "      <td>0.691546</td>\n",
              "      <td>0.685554</td>\n",
              "      <td>0.722938</td>\n",
              "      <td>0.696742</td>\n",
              "      <td>...</td>\n",
              "      <td>-1.149269</td>\n",
              "      <td>1.404988</td>\n",
              "      <td>-1.316433</td>\n",
              "      <td>3.550398</td>\n",
              "      <td>3.366586</td>\n",
              "      <td>0.352723</td>\n",
              "      <td>2.582228</td>\n",
              "      <td>2.148702</td>\n",
              "      <td>1.180273</td>\n",
              "      <td>4.521074</td>\n",
              "    </tr>\n",
              "    <tr>\n",
              "      <th>3</th>\n",
              "      <td>0.541733</td>\n",
              "      <td>0.565394</td>\n",
              "      <td>0.591974</td>\n",
              "      <td>0.606679</td>\n",
              "      <td>0.647344</td>\n",
              "      <td>0.677179</td>\n",
              "      <td>0.715182</td>\n",
              "      <td>0.705764</td>\n",
              "      <td>0.707652</td>\n",
              "      <td>0.667793</td>\n",
              "      <td>...</td>\n",
              "      <td>-2.528749</td>\n",
              "      <td>0.933915</td>\n",
              "      <td>-4.214124</td>\n",
              "      <td>1.486633</td>\n",
              "      <td>3.447144</td>\n",
              "      <td>0.343212</td>\n",
              "      <td>1.673163</td>\n",
              "      <td>1.149167</td>\n",
              "      <td>-1.704414</td>\n",
              "      <td>2.925104</td>\n",
              "    </tr>\n",
              "    <tr>\n",
              "      <th>4</th>\n",
              "      <td>0.473540</td>\n",
              "      <td>0.471911</td>\n",
              "      <td>0.494642</td>\n",
              "      <td>0.486543</td>\n",
              "      <td>0.527230</td>\n",
              "      <td>0.642038</td>\n",
              "      <td>0.701873</td>\n",
              "      <td>0.645157</td>\n",
              "      <td>0.621900</td>\n",
              "      <td>0.605100</td>\n",
              "      <td>...</td>\n",
              "      <td>1.344774</td>\n",
              "      <td>-0.028760</td>\n",
              "      <td>0.591915</td>\n",
              "      <td>0.167358</td>\n",
              "      <td>1.744662</td>\n",
              "      <td>-1.228223</td>\n",
              "      <td>-0.578519</td>\n",
              "      <td>0.850627</td>\n",
              "      <td>-1.625405</td>\n",
              "      <td>0.764073</td>\n",
              "    </tr>\n",
              "  </tbody>\n",
              "</table>\n",
              "<p>5 rows × 180 columns</p>\n",
              "</div>"
            ]
          },
          "metadata": {},
          "execution_count": 3
        }
      ]
    },
    {
      "cell_type": "code",
      "source": [
        "# plot emotions\n",
        "plt.figure(figsize=(35,4))\n",
        "plt.subplot(1,3,1)\n",
        "#np.unique returns ordered list of unique elements and count of each element\n",
        "emotion_list, count = np.unique(emotions, return_counts=True)\n",
        "plt.bar(x=range(6), height=count)\n",
        "plt.xticks(ticks=range(6), labels = [emotion for emotion in emotion_list],fontsize=10)\n",
        "plt.xlabel('Emotion')\n",
        "plt.tick_params(labelsize=16)\n",
        "plt.ylabel('Number of Samples')\n",
        "plt.show()"
      ],
      "metadata": {
        "colab": {
          "base_uri": "https://localhost:8080/",
          "height": 394
        },
        "id": "RzdBPK3eihlW",
        "outputId": "5e7872ef-0774-49fe-97bc-7092db00f2d5"
      },
      "execution_count": null,
      "outputs": [
        {
          "output_type": "display_data",
          "data": {
            "text/plain": [
              "<Figure size 3500x400 with 1 Axes>"
            ],
            "image/png": "[encoded data removed]"
          },
          "metadata": {}
        }
      ]
    },
    {
      "cell_type": "code",
      "source": [
        "print(f'\\nAudio samples represented: {features.shape[0]}')\n",
        "print(f'Numerical features extracted per sample: {features.shape[1]}')\n",
        "features_df = pd.DataFrame(features) # make it pretty for display\n",
        "labels_df=pd.DataFrame(emotions)"
      ],
      "metadata": {
        "colab": {
          "base_uri": "https://localhost:8080/"
        },
        "id": "9etAxd4XjCyW",
        "outputId": "79f06ab1-5514-4990-caf9-d3789f37a7c8"
      },
      "execution_count": 5,
      "outputs": [
        {
          "output_type": "stream",
          "name": "stdout",
          "text": [
            "\n",
            "Audio samples represented: 1508\n",
            "Numerical features extracted per sample: 180\n"
          ]
        }
      ]
    },
    {
      "cell_type": "markdown",
      "source": [
        "# Feature Scaling"
      ],
      "metadata": {
        "id": "al-aEH5_iu4u"
      }
    },
    {
      "cell_type": "code",
      "source": [
        "# We would usually use df.describe(), but it provides a bit of a mess of information we don't need at the moment.\n",
        "def print_features(df):\n",
        "    # Check chromagram feature values\n",
        "    features_df_chromagram = df.loc[:,:11]\n",
        "    chroma_min = features_df_chromagram.min().min()\n",
        "    chroma_max = features_df_chromagram.max().max()\n",
        "    # stack all features into a single series so we don't get a mean of means or stdev of stdevs\n",
        "    chroma_mean = features_df_chromagram.stack().mean()\n",
        "    chroma_stdev = features_df_chromagram.stack().std()\n",
        "    print(f'12 Chromagram features:       \\\n",
        "    min = {chroma_min:.3f}, \\\n",
        "    max = {chroma_max:.3f}, \\\n",
        "    mean = {chroma_mean:.3f}, \\\n",
        "    deviation = {chroma_stdev:.3f}')\n",
        "\n",
        "    # Check mel spectrogram feature values\n",
        "    features_df_melspectrogram = df.loc[:,12:139]\n",
        "    mel_min = features_df_melspectrogram.min().min()\n",
        "    mel_max = features_df_melspectrogram.max().max()\n",
        "    # stack all features into a single series so we don't get a mean of means or stdev of stdevs\n",
        "    mel_mean = features_df_melspectrogram.stack().mean()\n",
        "    mel_stdev = features_df_melspectrogram.stack().std()\n",
        "    print(f'\\n128 Mel Spectrogram features: \\\n",
        "    min = {mel_min:.3f}, \\\n",
        "    max = {mel_max:.3f}, \\\n",
        "    mean = {mel_mean:.3f}, \\\n",
        "    deviation = {mel_stdev:.3f}')\n",
        "\n",
        "    # Check MFCC feature values\n",
        "    features_df_mfcc = df.loc[:,140:179]\n",
        "    mfcc_min = features_df_mfcc.min().min()\n",
        "    mfcc_max = features_df_mfcc.max().max()\n",
        "    # stack all features into a single series so we don't get a mean of means or stdev of stdevs\n",
        "    mfcc_mean = features_df_mfcc.stack().mean()\n",
        "    mfcc_stdev = features_df_mfcc.stack().std()\n",
        "    print(f'\\n40 MFCC features:             \\\n",
        "    min = {mfcc_min:.3f},\\\n",
        "    max = {mfcc_max:.3f},\\\n",
        "    mean = {mfcc_mean:.3f},\\\n",
        "    deviation = {mfcc_stdev:.3f}')\n",
        "\n",
        "print(\"Before Scaling \\n\\n\")\n",
        "print_features(features_df)"
      ],
      "metadata": {
        "colab": {
          "base_uri": "https://localhost:8080/"
        },
        "id": "QwY-x1lsiusH",
        "outputId": "d295733c-78df-4581-dee4-74af4fc8b060"
      },
      "execution_count": 6,
      "outputs": [
        {
          "output_type": "stream",
          "name": "stdout",
          "text": [
            "Before Scaling \n",
            "\n",
            "\n",
            "12 Chromagram features:           min = 0.276,     max = 0.888,     mean = 0.640,     deviation = 0.093\n",
            "\n",
            "128 Mel Spectrogram features:     min = 0.000,     max = 886.647,     mean = 1.328,     deviation = 9.748\n",
            "\n",
            "40 MFCC features:                 min = -863.639,    max = 121.174,    mean = -11.163,    deviation = 82.575\n"
          ]
        }
      ]
    },
    {
      "cell_type": "code",
      "source": [
        "from sklearn.preprocessing import StandardScaler\n",
        "from sklearn.preprocessing import MinMaxScaler\n",
        "\n",
        "scaler = StandardScaler()\n",
        "# keep our unscaled features just in case we need to process them alternatively\n",
        "features_scaled = features\n",
        "features_scaled = scaler.fit_transform(features_scaled)\n",
        "\n",
        "scaler = MinMaxScaler()\n",
        "# keep our unscaled features just in case we need to process them alternatively\n",
        "features_minmax = features\n",
        "features_minmax = scaler.fit_transform(features_minmax)"
      ],
      "metadata": {
        "id": "bzV83rG8jjRU"
      },
      "execution_count": 7,
      "outputs": []
    },
    {
      "cell_type": "code",
      "source": [
        "print(\"After Scaling \\n\\n\")\n",
        "print('\\033[1m'+'Standard Scaling:\\n'+'\\033[0m')\n",
        "features_scaled_df = pd.DataFrame(features_scaled)\n",
        "print_features(features_scaled_df)\n",
        "\n",
        "print('\\n\\n\\033[1m'+'MinMax Scaling:\\n'+'\\033[0m')\n",
        "features_minmax_df = pd.DataFrame(features_minmax)\n",
        "print_features(features_minmax_df)"
      ],
      "metadata": {
        "colab": {
          "base_uri": "https://localhost:8080/"
        },
        "id": "bRSV2tzjjjKA",
        "outputId": "ba76c0a9-9349-43c2-f83a-3a75f14c165e"
      },
      "execution_count": 8,
      "outputs": [
        {
          "output_type": "stream",
          "name": "stdout",
          "text": [
            "After Scaling \n",
            "\n",
            "\n",
            "\u001b[1mStandard Scaling:\n",
            "\u001b[0m\n",
            "12 Chromagram features:           min = -4.046,     max = 2.602,     mean = 0.000,     deviation = 1.000\n",
            "\n",
            "128 Mel Spectrogram features:     min = -0.475,     max = 33.092,     mean = 0.000,     deviation = 1.000\n",
            "\n",
            "40 MFCC features:                 min = -4.719,    max = 6.582,    mean = 0.000,    deviation = 1.000\n",
            "\n",
            "\n",
            "\u001b[1mMinMax Scaling:\n",
            "\u001b[0m\n",
            "12 Chromagram features:           min = 0.000,     max = 1.000,     mean = 0.599,     deviation = 0.179\n",
            "\n",
            "128 Mel Spectrogram features:     min = 0.000,     max = 1.000,     mean = 0.024,     deviation = 0.068\n",
            "\n",
            "40 MFCC features:                 min = 0.000,    max = 1.000,    mean = 0.393,    deviation = 0.177\n"
          ]
        }
      ]
    },
    {
      "cell_type": "markdown",
      "source": [
        "# Machine Learning Setup"
      ],
      "metadata": {
        "id": "0wto5aQckcTZ"
      }
    },
    {
      "cell_type": "markdown",
      "source": [
        "For this portion, I will test all the built in scikit learn methods for machine learning and find the best 3 methods with default parameters\n",
        "\n",
        "But first, we must split the data 80/20 with 80% used for training and 20% used for testing"
      ],
      "metadata": {
        "id": "R0WBd6gVk5UC"
      }
    },
    {
      "cell_type": "markdown",
      "source": [
        "## Data Split 80/20"
      ],
      "metadata": {
        "id": "3T4suxG5kxXN"
      }
    },
    {
      "cell_type": "markdown",
      "source": [
        "Split the dataset into 80/20 (Training/Testing)\n",
        "\n",
        "The Random State I'll be using for splitting my set is  = 42\n",
        "\n",
        "3 Different versions,\n",
        "- Original unscaled\n",
        "- Standard scaling\n",
        "- MinMax scaling\n",
        "\n",
        "The test set is initialized during original unscaled"
      ],
      "metadata": {
        "id": "mD9T6NFokh5s"
      }
    },
    {
      "cell_type": "code",
      "source": [
        "from sklearn.model_selection import train_test_split\n",
        "\n",
        "############# Unscaled test/train set #############\n",
        "X_train, X_test, y_train, y_test =train_test_split(\n",
        "    features,\n",
        "    emotions,\n",
        "    test_size=0.2,\n",
        "    random_state=42\n",
        ")\n",
        "\n",
        "############ Standard Scaled test/train set ###########\n",
        "# The labels/classes (y_train, y_test) never change, keep old values\n",
        "X_train_scaled, X_test_scaled, _, _ = train_test_split(\n",
        "    features_scaled,\n",
        "    emotions,\n",
        "    test_size=0.2,\n",
        "    random_state=42\n",
        ")\n",
        "\n",
        "############# MinMax Scaled test/train set ###############\n",
        "# The labels/classes (y_train, y_test) never change, keep old values\n",
        "X_train_minmax, X_test_minmax, _, _ = train_test_split(\n",
        "    features_scaled,\n",
        "    emotions,\n",
        "    test_size=0.2,\n",
        "    random_state=42\n",
        ")"
      ],
      "metadata": {
        "id": "4c_MYg8_kpbI"
      },
      "execution_count": 9,
      "outputs": []
    },
    {
      "cell_type": "markdown",
      "source": [
        "## Testing for the best 3 models"
      ],
      "metadata": {
        "id": "c9lj8e9ulw_t"
      }
    },
    {
      "cell_type": "code",
      "source": [
        "from sklearn.neighbors import KNeighborsClassifier\n",
        "from sklearn.svm import SVC\n",
        "from sklearn.tree import DecisionTreeClassifier\n",
        "from sklearn.ensemble import RandomForestClassifier, AdaBoostClassifier\n",
        "from sklearn.naive_bayes import GaussianNB\n",
        "from sklearn.discriminant_analysis import QuadraticDiscriminantAnalysis\n",
        "\n",
        "classification_models = [\n",
        "    KNeighborsClassifier(),#(3),\n",
        "    SVC(kernel='linear'),#, C=0.025),\n",
        "    SVC(kernel='rbf'),\n",
        "    DecisionTreeClassifier(),#max_depth=5),\n",
        "    RandomForestClassifier(),#max_depth=5, n_estimators=10, max_features=1),\n",
        "    AdaBoostClassifier(),\n",
        "    GaussianNB(),\n",
        "    QuadraticDiscriminantAnalysis()]\n",
        "\n",
        "scores = []\n",
        "for model in classification_models:\n",
        "    model.fit(X_train, y_train)\n",
        "    score = model.score(X_test, y_test)\n",
        "    model_name = type(model).__name__\n",
        "    if model_name=='SVC' and model.kernel=='rbf': model_name+=' RBF kernel'\n",
        "    if model_name=='SVC' and model.kernel=='linear': model_name+=' linear'\n",
        "    scores.append((model_name,(f'{100*score:.2f}%')))\n",
        "# Make it pretty\n",
        "scores_df = pd.DataFrame(scores,columns=['Classifier','Accuracy Score'])\n",
        "scores_df.sort_values(by='Accuracy Score',axis=0,ascending=False)"
      ],
      "metadata": {
        "colab": {
          "base_uri": "https://localhost:8080/",
          "height": 300
        },
        "id": "a5hF5PKRlrKq",
        "outputId": "aefd0101-a30d-4006-8d6c-9c544eb475f1"
      },
      "execution_count": null,
      "outputs": [
        {
          "output_type": "execute_result",
          "data": {
            "text/plain": [
              "                      Classifier Accuracy Score\n",
              "4         RandomForestClassifier         66.56%\n",
              "0           KNeighborsClassifier         59.60%\n",
              "1                     SVC linear         56.62%\n",
              "3         DecisionTreeClassifier         45.03%\n",
              "5             AdaBoostClassifier         39.07%\n",
              "2                 SVC RBF kernel         38.74%\n",
              "6                     GaussianNB         38.41%\n",
              "7  QuadraticDiscriminantAnalysis         35.43%"
            ],
            "text/html": [
              "\n",
              "  <div id=\"df-a30f111c-3e67-495c-bae2-58cb5122f9b9\" class=\"colab-df-container\">\n",
              "    <div>\n",
              "<style scoped>\n",
              "    .dataframe tbody tr th:only-of-type {\n",
              "        vertical-align: middle;\n",
              "    }\n",
              "\n",
              "    .dataframe tbody tr th {\n",
              "        vertical-align: top;\n",
              "    }\n",
              "\n",
              "    .dataframe thead th {\n",
              "        text-align: right;\n",
              "    }\n",
              "</style>\n",
              "<table border=\"1\" class=\"dataframe\">\n",
              "  <thead>\n",
              "    <tr style=\"text-align: right;\">\n",
              "      <th></th>\n",
              "      <th>Classifier</th>\n",
              "      <th>Accuracy Score</th>\n",
              "    </tr>\n",
              "  </thead>\n",
              "  <tbody>\n",
              "    <tr>\n",
              "      <th>4</th>\n",
              "      <td>RandomForestClassifier</td>\n",
              "      <td>66.56%</td>\n",
              "    </tr>\n",
              "    <tr>\n",
              "      <th>0</th>\n",
              "      <td>KNeighborsClassifier</td>\n",
              "      <td>59.60%</td>\n",
              "    </tr>\n",
              "    <tr>\n",
              "      <th>1</th>\n",
              "      <td>SVC linear</td>\n",
              "      <td>56.62%</td>\n",
              "    </tr>\n",
              "    <tr>\n",
              "      <th>3</th>\n",
              "      <td>DecisionTreeClassifier</td>\n",
              "      <td>45.03%</td>\n",
              "    </tr>\n",
              "    <tr>\n",
              "      <th>5</th>\n",
              "      <td>AdaBoostClassifier</td>\n",
              "      <td>39.07%</td>\n",
              "    </tr>\n",
              "    <tr>\n",
              "      <th>2</th>\n",
              "      <td>SVC RBF kernel</td>\n",
              "      <td>38.74%</td>\n",
              "    </tr>\n",
              "    <tr>\n",
              "      <th>6</th>\n",
              "      <td>GaussianNB</td>\n",
              "      <td>38.41%</td>\n",
              "    </tr>\n",
              "    <tr>\n",
              "      <th>7</th>\n",
              "      <td>QuadraticDiscriminantAnalysis</td>\n",
              "      <td>35.43%</td>\n",
              "    </tr>\n",
              "  </tbody>\n",
              "</table>\n",
              "</div>\n",
              "    <div class=\"colab-df-buttons\">\n",
              "\n",
              "  <div class=\"colab-df-container\">\n",
              "    <button class=\"colab-df-convert\" onclick=\"convertToInteractive('df-a30f111c-3e67-495c-bae2-58cb5122f9b9')\"\n",
              "            title=\"Convert this dataframe to an interactive table.\"\n",
              "            style=\"display:none;\">\n",
              "\n",
              "  <svg xmlns=\"http://www.w3.org/2000/svg\" height=\"24px\" viewBox=\"0 -960 960 960\">\n",
              "    <path d=\"M120-120v-720h720v720H120Zm60-500h600v-160H180v160Zm220 220h160v-160H400v160Zm0 220h160v-160H400v160ZM180-400h160v-160H180v160Zm440 0h160v-160H620v160ZM180-180h160v-160H180v160Zm440 0h160v-160H620v160Z\"/>\n",
              "  </svg>\n",
              "    </button>\n",
              "\n",
              "  <style>\n",
              "    .colab-df-container {\n",
              "      display:flex;\n",
              "      gap: 12px;\n",
              "    }\n",
              "\n",
              "    .colab-df-convert {\n",
              "      background-color: #E8F0FE;\n",
              "      border: none;\n",
              "      border-radius: 50%;\n",
              "      cursor: pointer;\n",
              "      display: none;\n",
              "      fill: #1967D2;\n",
              "      height: 32px;\n",
              "      padding: 0 0 0 0;\n",
              "      width: 32px;\n",
              "    }\n",
              "\n",
              "    .colab-df-convert:hover {\n",
              "      background-color: #E2EBFA;\n",
              "      box-shadow: 0px 1px 2px rgba(60, 64, 67, 0.3), 0px 1px 3px 1px rgba(60, 64, 67, 0.15);\n",
              "      fill: #174EA6;\n",
              "    }\n",
              "\n",
              "    .colab-df-buttons div {\n",
              "      margin-bottom: 4px;\n",
              "    }\n",
              "\n",
              "    [theme=dark] .colab-df-convert {\n",
              "      background-color: #3B4455;\n",
              "      fill: #D2E3FC;\n",
              "    }\n",
              "\n",
              "    [theme=dark] .colab-df-convert:hover {\n",
              "      background-color: #434B5C;\n",
              "      box-shadow: 0px 1px 3px 1px rgba(0, 0, 0, 0.15);\n",
              "      filter: drop-shadow(0px 1px 2px rgba(0, 0, 0, 0.3));\n",
              "      fill: #FFFFFF;\n",
              "    }\n",
              "  </style>\n",
              "\n",
              "    <script>\n",
              "      const buttonEl =\n",
              "        document.querySelector('#df-a30f111c-3e67-495c-bae2-58cb5122f9b9 button.colab-df-convert');\n",
              "      buttonEl.style.display =\n",
              "        google.colab.kernel.accessAllowed ? 'block' : 'none';\n",
              "\n",
              "      async function convertToInteractive(key) {\n",
              "        const element = document.querySelector('#df-a30f111c-3e67-495c-bae2-58cb5122f9b9');\n",
              "        const dataTable =\n",
              "          await google.colab.kernel.invokeFunction('convertToInteractive',\n",
              "                                                    [key], {});\n",
              "        if (!dataTable) return;\n",
              "\n",
              "        const docLinkHtml = 'Like what you see? Visit the ' +\n",
              "          '<a target=\"_blank\" href=https://colab.research.google.com/notebooks/data_table.ipynb>data table notebook</a>'\n",
              "          + ' to learn more about interactive tables.';\n",
              "        element.innerHTML = '';\n",
              "        dataTable['output_type'] = 'display_data';\n",
              "        await google.colab.output.renderOutput(dataTable, element);\n",
              "        const docLink = document.createElement('div');\n",
              "        docLink.innerHTML = docLinkHtml;\n",
              "        element.appendChild(docLink);\n",
              "      }\n",
              "    </script>\n",
              "  </div>\n",
              "\n",
              "\n",
              "<div id=\"df-d7a09792-32e2-49fe-a876-e0def8ba438b\">\n",
              "  <button class=\"colab-df-quickchart\" onclick=\"quickchart('df-d7a09792-32e2-49fe-a876-e0def8ba438b')\"\n",
              "            title=\"Suggest charts\"\n",
              "            style=\"display:none;\">\n",
              "\n",
              "<svg xmlns=\"http://www.w3.org/2000/svg\" height=\"24px\"viewBox=\"0 0 24 24\"\n",
              "     width=\"24px\">\n",
              "    <g>\n",
              "        <path d=\"M19 3H5c-1.1 0-2 .9-2 2v14c0 1.1.9 2 2 2h14c1.1 0 2-.9 2-2V5c0-1.1-.9-2-2-2zM9 17H7v-7h2v7zm4 0h-2V7h2v10zm4 0h-2v-4h2v4z\"/>\n",
              "    </g>\n",
              "</svg>\n",
              "  </button>\n",
              "\n",
              "<style>\n",
              "  .colab-df-quickchart {\n",
              "      --bg-color: #E8F0FE;\n",
              "      --fill-color: #1967D2;\n",
              "      --hover-bg-color: #E2EBFA;\n",
              "      --hover-fill-color: #174EA6;\n",
              "      --disabled-fill-color: #AAA;\n",
              "      --disabled-bg-color: #DDD;\n",
              "  }\n",
              "\n",
              "  [theme=dark] .colab-df-quickchart {\n",
              "      --bg-color: #3B4455;\n",
              "      --fill-color: #D2E3FC;\n",
              "      --hover-bg-color: #434B5C;\n",
              "      --hover-fill-color: #FFFFFF;\n",
              "      --disabled-bg-color: #3B4455;\n",
              "      --disabled-fill-color: #666;\n",
              "  }\n",
              "\n",
              "  .colab-df-quickchart {\n",
              "    background-color: var(--bg-color);\n",
              "    border: none;\n",
              "    border-radius: 50%;\n",
              "    cursor: pointer;\n",
              "    display: none;\n",
              "    fill: var(--fill-color);\n",
              "    height: 32px;\n",
              "    padding: 0;\n",
              "    width: 32px;\n",
              "  }\n",
              "\n",
              "  .colab-df-quickchart:hover {\n",
              "    background-color: var(--hover-bg-color);\n",
              "    box-shadow: 0 1px 2px rgba(60, 64, 67, 0.3), 0 1px 3px 1px rgba(60, 64, 67, 0.15);\n",
              "    fill: var(--button-hover-fill-color);\n",
              "  }\n",
              "\n",
              "  .colab-df-quickchart-complete:disabled,\n",
              "  .colab-df-quickchart-complete:disabled:hover {\n",
              "    background-color: var(--disabled-bg-color);\n",
              "    fill: var(--disabled-fill-color);\n",
              "    box-shadow: none;\n",
              "  }\n",
              "\n",
              "  .colab-df-spinner {\n",
              "    border: 2px solid var(--fill-color);\n",
              "    border-color: transparent;\n",
              "    border-bottom-color: var(--fill-color);\n",
              "    animation:\n",
              "      spin 1s steps(1) infinite;\n",
              "  }\n",
              "\n",
              "  @keyframes spin {\n",
              "    0% {\n",
              "      border-color: transparent;\n",
              "      border-bottom-color: var(--fill-color);\n",
              "      border-left-color: var(--fill-color);\n",
              "    }\n",
              "    20% {\n",
              "      border-color: transparent;\n",
              "      border-left-color: var(--fill-color);\n",
              "      border-top-color: var(--fill-color);\n",
              "    }\n",
              "    30% {\n",
              "      border-color: transparent;\n",
              "      border-left-color: var(--fill-color);\n",
              "      border-top-color: var(--fill-color);\n",
              "      border-right-color: var(--fill-color);\n",
              "    }\n",
              "    40% {\n",
              "      border-color: transparent;\n",
              "      border-right-color: var(--fill-color);\n",
              "      border-top-color: var(--fill-color);\n",
              "    }\n",
              "    60% {\n",
              "      border-color: transparent;\n",
              "      border-right-color: var(--fill-color);\n",
              "    }\n",
              "    80% {\n",
              "      border-color: transparent;\n",
              "      border-right-color: var(--fill-color);\n",
              "      border-bottom-color: var(--fill-color);\n",
              "    }\n",
              "    90% {\n",
              "      border-color: transparent;\n",
              "      border-bottom-color: var(--fill-color);\n",
              "    }\n",
              "  }\n",
              "</style>\n",
              "\n",
              "  <script>\n",
              "    async function quickchart(key) {\n",
              "      const quickchartButtonEl =\n",
              "        document.querySelector('#' + key + ' button');\n",
              "      quickchartButtonEl.disabled = true;  // To prevent multiple clicks.\n",
              "      quickchartButtonEl.classList.add('colab-df-spinner');\n",
              "      try {\n",
              "        const charts = await google.colab.kernel.invokeFunction(\n",
              "            'suggestCharts', [key], {});\n",
              "      } catch (error) {\n",
              "        console.error('Error during call to suggestCharts:', error);\n",
              "      }\n",
              "      quickchartButtonEl.classList.remove('colab-df-spinner');\n",
              "      quickchartButtonEl.classList.add('colab-df-quickchart-complete');\n",
              "    }\n",
              "    (() => {\n",
              "      let quickchartButtonEl =\n",
              "        document.querySelector('#df-d7a09792-32e2-49fe-a876-e0def8ba438b button');\n",
              "      quickchartButtonEl.style.display =\n",
              "        google.colab.kernel.accessAllowed ? 'block' : 'none';\n",
              "    })();\n",
              "  </script>\n",
              "</div>\n",
              "\n",
              "    </div>\n",
              "  </div>\n"
            ]
          },
          "metadata": {},
          "execution_count": 36
        }
      ]
    },
    {
      "cell_type": "markdown",
      "source": [
        "The top 3 for my combined dataset (RAVDESS + EMODB) which contains 1508 samples is different from the lab example.\n",
        "\n",
        "My Top 3:\n",
        "- RandomForestClassifier - 66.56%\n",
        "- KNeighbrsClassifier - 59.60%\n",
        "- SVC Linear - 56.62%\n",
        "\n",
        "Lab Example Top 3:\n",
        "- RandomForestClassifier - 51.92%\n",
        "- KNeighborsClassifier - 51.57%\n",
        "- SVC (Linear) - 49.83%\n",
        "\n",
        "For this notebook I will be testing RandomForest, KNeighborsClassifier, and SVC RBF (since this is the one used in the lab)"
      ],
      "metadata": {
        "id": "bebUS7FOmjfv"
      }
    },
    {
      "cell_type": "markdown",
      "source": [
        "# Random Forest Classifier"
      ],
      "metadata": {
        "id": "jXYd3A7TnZ22"
      }
    },
    {
      "cell_type": "markdown",
      "source": [
        "The first model I'll be testing out is Random Forest as it scored the highest in the initial test.\n",
        "\n",
        "First I'll test how the model performs with the default set, scaled, and minmax set.\n",
        "\n",
        "After, I'll test it out using the optimizations done in lab and compare the results, then I plan to further optimize it and find the best possible combination using GridSearch from Week 4 lab"
      ],
      "metadata": {
        "id": "awLGFBXrneXY"
      }
    },
    {
      "cell_type": "markdown",
      "source": [
        "First I'm going to test out the default model using the 3 different"
      ],
      "metadata": {
        "id": "3pXR93Ujs-s-"
      }
    },
    {
      "cell_type": "code",
      "source": [
        "from sklearn.ensemble import RandomForestClassifier\n",
        "\n",
        "#default model with seed = 10101\n",
        "model = RandomForestClassifier(\n",
        "    random_state=10101 #Keep it consistent\n",
        ")\n",
        "\n",
        "model.fit(X_train, y_train)\n",
        "print(f'Default Random Forest Model\\'s accuracy on training set is {100*model.score(X_train, y_train):.2f}%')\n",
        "print(f'Default Random Forest Model\\'s accuracy on test set is {100*model.score(X_test, y_test):.2f}%\\n')\n",
        "model.fit(X_train_scaled, y_train)\n",
        "print(f'Default Random Forest Model\\'s accuracy on scaled training set is {100*model.score(X_train_scaled, y_train):.2f}%')\n",
        "print(f'Default Random Forest Model\\'s accuracy on scaled test set is {100*model.score(X_test_scaled, y_test):.2f}%\\n')\n",
        "model.fit(X_train_minmax, y_train)\n",
        "print(f'Default Random Forest Model\\'s accuracy on minmax training set is {100*model.score(X_train_minmax, y_train):.2f}%')\n",
        "print(f'Default Random Forest Model\\'s accuracy on minmaxtest set is {100*model.score(X_test_minmax, y_test):.2f}%\\n')\n",
        "\n"
      ],
      "metadata": {
        "colab": {
          "base_uri": "https://localhost:8080/"
        },
        "id": "IkP8BKPzp0ZF",
        "outputId": "a73fafca-e083-4b04-8858-1545e7c2e936"
      },
      "execution_count": null,
      "outputs": [
        {
          "output_type": "stream",
          "name": "stdout",
          "text": [
            "Default Random Forest Model's accuracy on training set is 100.00%\n",
            "Default Random Forest Model's accuracy on test set is 66.56%\n",
            "\n",
            "Default Random Forest Model's accuracy on scaled training set is 100.00%\n",
            "Default Random Forest Model's accuracy on scaled test set is 65.89%\n",
            "\n",
            "Default Random Forest Model's accuracy on minmax training set is 100.00%\n",
            "Default Random Forest Model's accuracy on minmaxtest set is 65.89%\n",
            "\n"
          ]
        }
      ]
    },
    {
      "cell_type": "markdown",
      "source": [
        "There's not much difference between the sets but the default set seems to perform the best out of all 3\n",
        "\n",
        "The training set has a 100% success rate which is a bit worrying since it might be overfitted."
      ],
      "metadata": {
        "id": "ld0MBMPx0ter"
      }
    },
    {
      "cell_type": "markdown",
      "source": [
        "## Comparison against RAVDESS Dataset"
      ],
      "metadata": {
        "id": "Gze30JcVV_sm"
      }
    },
    {
      "cell_type": "markdown",
      "source": [
        "For my next test, I'll be using the optimizations used in the lab example, keeping my random state of = 10101"
      ],
      "metadata": {
        "id": "RNautGU3WUQ2"
      }
    },
    {
      "cell_type": "code",
      "source": [
        "#Modifications\n",
        "\n",
        "model = RandomForestClassifier(\n",
        "    n_estimators = 500,\n",
        "    criterion ='entropy',\n",
        "    warm_start = True,\n",
        "    max_features = 'sqrt',\n",
        "    oob_score = True, # more on this below\n",
        "    random_state=10101 # Keep it consistent\n",
        "\n",
        ")\n",
        "\n",
        "model.fit(X_train, y_train)\n",
        "print(f'Default Random Forest Model\\'s accuracy on training set is {100*model.score(X_train, y_train):.2f}%')\n",
        "print(f'Default Random Forest Model\\'s accuracy on test set is {100*model.score(X_test, y_test):.2f}%\\n')"
      ],
      "metadata": {
        "colab": {
          "base_uri": "https://localhost:8080/"
        },
        "id": "H9bMdNUXZynu",
        "outputId": "6a21f209-a801-4c0f-f217-cc183065d143"
      },
      "execution_count": null,
      "outputs": [
        {
          "output_type": "stream",
          "name": "stdout",
          "text": [
            "Default Random Forest Model's accuracy on training set is 100.00%\n",
            "Default Random Forest Model's accuracy on test set is 68.21%\n",
            "\n"
          ]
        }
      ]
    },
    {
      "cell_type": "markdown",
      "source": [
        "\n",
        "The combined dataset scored around 16%~ better than the original RAVDESS set. For reference, the lab RAVDESS only set scored\n",
        "\n",
        "Training set: 100%\n",
        "\n",
        "Test set: 52.96%\n",
        "\n",
        "Unsurprisingly, the combined set performed better than the RAVDESS only"
      ],
      "metadata": {
        "id": "3eGbrX9wWcHW"
      }
    },
    {
      "cell_type": "markdown",
      "source": [
        "## (EXTRA) Further Optimization"
      ],
      "metadata": {
        "id": "fwNr6kDRXSmu"
      }
    },
    {
      "cell_type": "markdown",
      "source": [
        "When compared in isolation\n",
        "\n",
        "The score has improved 2%~,  from 66%->68%\n",
        "\n",
        "To find the best version, I'll first examine the default values but list them out (except for random state which ill keep = 10101)\n",
        "\n",
        "Also since I started doing the bulk of the work after Week 4, I'll try using grid search to find the best combo, I'll be testing the following attirbutes\n",
        "\n",
        "- bootstrap: T/F\n",
        "- criterion: gini/entropy/log_loss\n",
        "- n_estimators: 10/100/300\n",
        "- oob_score: T/F\n",
        "- warm_start: T/F\n"
      ],
      "metadata": {
        "id": "_4MvwCaM2Ljq"
      }
    },
    {
      "cell_type": "code",
      "source": [
        "model = RandomForestClassifier(\n",
        "\n",
        ")\n",
        "\n",
        "default_params = {\n",
        "    'bootstrap': [True, False],\n",
        "    'criterion': ['gini', 'entropy','log_loss'],\n",
        "    'max_depth': [None],\n",
        "    'max_features': ['auto'],\n",
        "    'max_leaf_nodes': [None],\n",
        "    'min_impurity_decrease': [0.0],\n",
        "    'min_samples_leaf': [1],\n",
        "    'min_samples_split': [2],\n",
        "    'min_weight_fraction_leaf': [0.0],\n",
        "    'n_estimators': [10,100,300],\n",
        "    'oob_score': [False, False],\n",
        "    'random_state': [10101],\n",
        "    'verbose': [0],\n",
        "    'warm_start': [False, True]\n",
        "}\n",
        "\n",
        "grid = GridSearchCV(\n",
        "     model,\n",
        "     default_params,\n",
        "     cv = 2,\n",
        "     n_jobs = -1,\n",
        "     verbose = 3\n",
        ")\n",
        "\n",
        "with parallel_backend('multiprocessing'):\n",
        "    grid.fit(X_train, y_train)\n",
        "\n",
        "print(\"best combo: \\n\", grid.best_params_)\n",
        "print(\"best estimator: \\n\", grid.best_estimator_)"
      ],
      "metadata": {
        "colab": {
          "base_uri": "https://localhost:8080/"
        },
        "id": "Osmq6npZ2orB",
        "outputId": "8cc467f9-e235-4a04-a055-100671c9a159"
      },
      "execution_count": null,
      "outputs": [
        {
          "output_type": "stream",
          "name": "stdout",
          "text": [
            "Fitting 2 folds for each of 72 candidates, totalling 144 fits\n",
            "[CV 1/2] END bootstrap=True, criterion=gini, max_depth=None, max_features=auto, max_leaf_nodes=None, min_impurity_decrease=0.0, min_samples_leaf=1, min_samples_split=2, min_weight_fraction_leaf=0.0, n_estimators=10, oob_score=False, random_state=10101, verbose=0, warm_start=False;, score=0.491 total time=   0.2s\n",
            "[CV 2/2] END bootstrap=True, criterion=gini, max_depth=None, max_features=auto, max_leaf_nodes=None, min_impurity_decrease=0.0, min_samples_leaf=1, min_samples_split=2, min_weight_fraction_leaf=0.0, n_estimators=10, oob_score=False, random_state=10101, verbose=0, warm_start=False;, score=0.461 total time=   0.2s\n",
            "[CV 1/2] END bootstrap=True, criterion=gini, max_depth=None, max_features=auto, max_leaf_nodes=None, min_impurity_decrease=0.0, min_samples_leaf=1, min_samples_split=2, min_weight_fraction_leaf=0.0, n_estimators=10, oob_score=False, random_state=10101, verbose=0, warm_start=True;, score=0.491 total time=   0.1s\n",
            "[CV 2/2] END bootstrap=True, criterion=gini, max_depth=None, max_features=auto, max_leaf_nodes=None, min_impurity_decrease=0.0, min_samples_leaf=1, min_samples_split=2, min_weight_fraction_leaf=0.0, n_estimators=10, oob_score=False, random_state=10101, verbose=0, warm_start=True;, score=0.461 total time=   0.1s\n",
            "[CV 2/2] END bootstrap=True, criterion=gini, max_depth=None, max_features=auto, max_leaf_nodes=None, min_impurity_decrease=0.0, min_samples_leaf=1, min_samples_split=2, min_weight_fraction_leaf=0.0, n_estimators=10, oob_score=False, random_state=10101, verbose=0, warm_start=False;, score=0.461 total time=   0.1s\n",
            "[CV 1/2] END bootstrap=True, criterion=gini, max_depth=None, max_features=auto, max_leaf_nodes=None, min_impurity_decrease=0.0, min_samples_leaf=1, min_samples_split=2, min_weight_fraction_leaf=0.0, n_estimators=10, oob_score=False, random_state=10101, verbose=0, warm_start=False;, score=0.491 total time=   0.2s\n",
            "[CV 1/2] END bootstrap=True, criterion=gini, max_depth=None, max_features=auto, max_leaf_nodes=None, min_impurity_decrease=0.0, min_samples_leaf=1, min_samples_split=2, min_weight_fraction_leaf=0.0, n_estimators=10, oob_score=False, random_state=10101, verbose=0, warm_start=True;, score=0.491 total time=   0.1s\n",
            "[CV 2/2] END bootstrap=True, criterion=gini, max_depth=None, max_features=auto, max_leaf_nodes=None, min_impurity_decrease=0.0, min_samples_leaf=1, min_samples_split=2, min_weight_fraction_leaf=0.0, n_estimators=10, oob_score=False, random_state=10101, verbose=0, warm_start=True;, score=0.461 total time=   0.1s\n",
            "[CV 1/2] END bootstrap=True, criterion=gini, max_depth=None, max_features=auto, max_leaf_nodes=None, min_impurity_decrease=0.0, min_samples_leaf=1, min_samples_split=2, min_weight_fraction_leaf=0.0, n_estimators=100, oob_score=False, random_state=10101, verbose=0, warm_start=False;, score=0.585 total time=   1.5s\n",
            "[CV 2/2] END bootstrap=True, criterion=gini, max_depth=None, max_features=auto, max_leaf_nodes=None, min_impurity_decrease=0.0, min_samples_leaf=1, min_samples_split=2, min_weight_fraction_leaf=0.0, n_estimators=100, oob_score=False, random_state=10101, verbose=0, warm_start=False;, score=0.542 total time=   1.5s\n",
            "[CV 1/2] END bootstrap=True, criterion=gini, max_depth=None, max_features=auto, max_leaf_nodes=None, min_impurity_decrease=0.0, min_samples_leaf=1, min_samples_split=2, min_weight_fraction_leaf=0.0, n_estimators=100, oob_score=False, random_state=10101, verbose=0, warm_start=True;, score=0.585 total time=   0.8s\n",
            "[CV 2/2] END bootstrap=True, criterion=gini, max_depth=None, max_features=auto, max_leaf_nodes=None, min_impurity_decrease=0.0, min_samples_leaf=1, min_samples_split=2, min_weight_fraction_leaf=0.0, n_estimators=100, oob_score=False, random_state=10101, verbose=0, warm_start=True;, score=0.542 total time=   0.8s\n",
            "[CV 2/2] END bootstrap=True, criterion=gini, max_depth=None, max_features=auto, max_leaf_nodes=None, min_impurity_decrease=0.0, min_samples_leaf=1, min_samples_split=2, min_weight_fraction_leaf=0.0, n_estimators=100, oob_score=False, random_state=10101, verbose=0, warm_start=False;, score=0.542 total time=   0.8s\n",
            "[CV 1/2] END bootstrap=True, criterion=gini, max_depth=None, max_features=auto, max_leaf_nodes=None, min_impurity_decrease=0.0, min_samples_leaf=1, min_samples_split=2, min_weight_fraction_leaf=0.0, n_estimators=100, oob_score=False, random_state=10101, verbose=0, warm_start=False;, score=0.585 total time=   0.8s\n",
            "[CV 1/2] END bootstrap=True, criterion=gini, max_depth=None, max_features=auto, max_leaf_nodes=None, min_impurity_decrease=0.0, min_samples_leaf=1, min_samples_split=2, min_weight_fraction_leaf=0.0, n_estimators=100, oob_score=False, random_state=10101, verbose=0, warm_start=True;, score=0.585 total time=   0.8s\n",
            "[CV 2/2] END bootstrap=True, criterion=gini, max_depth=None, max_features=auto, max_leaf_nodes=None, min_impurity_decrease=0.0, min_samples_leaf=1, min_samples_split=2, min_weight_fraction_leaf=0.0, n_estimators=100, oob_score=False, random_state=10101, verbose=0, warm_start=True;, score=0.542 total time=   0.8s\n",
            "[CV 2/2] END bootstrap=True, criterion=gini, max_depth=None, max_features=auto, max_leaf_nodes=None, min_impurity_decrease=0.0, min_samples_leaf=1, min_samples_split=2, min_weight_fraction_leaf=0.0, n_estimators=300, oob_score=False, random_state=10101, verbose=0, warm_start=False;, score=0.552 total time=   2.4s\n",
            "[CV 1/2] END bootstrap=True, criterion=gini, max_depth=None, max_features=auto, max_leaf_nodes=None, min_impurity_decrease=0.0, min_samples_leaf=1, min_samples_split=2, min_weight_fraction_leaf=0.0, n_estimators=300, oob_score=False, random_state=10101, verbose=0, warm_start=False;, score=0.607 total time=   2.5s\n",
            "[CV 2/2] END bootstrap=True, criterion=gini, max_depth=None, max_features=auto, max_leaf_nodes=None, min_impurity_decrease=0.0, min_samples_leaf=1, min_samples_split=2, min_weight_fraction_leaf=0.0, n_estimators=300, oob_score=False, random_state=10101, verbose=0, warm_start=True;, score=0.552 total time=   2.4s\n",
            "[CV 1/2] END bootstrap=True, criterion=gini, max_depth=None, max_features=auto, max_leaf_nodes=None, min_impurity_decrease=0.0, min_samples_leaf=1, min_samples_split=2, min_weight_fraction_leaf=0.0, n_estimators=300, oob_score=False, random_state=10101, verbose=0, warm_start=True;, score=0.607 total time=   2.5s\n",
            "[CV 2/2] END bootstrap=True, criterion=gini, max_depth=None, max_features=auto, max_leaf_nodes=None, min_impurity_decrease=0.0, min_samples_leaf=1, min_samples_split=2, min_weight_fraction_leaf=0.0, n_estimators=300, oob_score=False, random_state=10101, verbose=0, warm_start=False;, score=0.552 total time=   4.3s\n",
            "[CV 1/2] END bootstrap=True, criterion=gini, max_depth=None, max_features=auto, max_leaf_nodes=None, min_impurity_decrease=0.0, min_samples_leaf=1, min_samples_split=2, min_weight_fraction_leaf=0.0, n_estimators=300, oob_score=False, random_state=10101, verbose=0, warm_start=False;, score=0.607 total time=   4.5s\n",
            "[CV 1/2] END bootstrap=True, criterion=gini, max_depth=None, max_features=auto, max_leaf_nodes=None, min_impurity_decrease=0.0, min_samples_leaf=1, min_samples_split=2, min_weight_fraction_leaf=0.0, n_estimators=300, oob_score=False, random_state=10101, verbose=0, warm_start=True;, score=0.607 total time=   4.9s\n",
            "[CV 2/2] END bootstrap=True, criterion=gini, max_depth=None, max_features=auto, max_leaf_nodes=None, min_impurity_decrease=0.0, min_samples_leaf=1, min_samples_split=2, min_weight_fraction_leaf=0.0, n_estimators=300, oob_score=False, random_state=10101, verbose=0, warm_start=True;, score=0.552 total time=   4.8s\n",
            "[CV 2/2] END bootstrap=True, criterion=entropy, max_depth=None, max_features=auto, max_leaf_nodes=None, min_impurity_decrease=0.0, min_samples_leaf=1, min_samples_split=2, min_weight_fraction_leaf=0.0, n_estimators=10, oob_score=False, random_state=10101, verbose=0, warm_start=False;, score=0.471 total time=   0.2s\n",
            "[CV 1/2] END bootstrap=True, criterion=entropy, max_depth=None, max_features=auto, max_leaf_nodes=None, min_impurity_decrease=0.0, min_samples_leaf=1, min_samples_split=2, min_weight_fraction_leaf=0.0, n_estimators=10, oob_score=False, random_state=10101, verbose=0, warm_start=False;, score=0.516 total time=   0.2s\n",
            "[CV 1/2] END bootstrap=True, criterion=entropy, max_depth=None, max_features=auto, max_leaf_nodes=None, min_impurity_decrease=0.0, min_samples_leaf=1, min_samples_split=2, min_weight_fraction_leaf=0.0, n_estimators=10, oob_score=False, random_state=10101, verbose=0, warm_start=True;, score=0.516 total time=   0.2s\n",
            "[CV 2/2] END bootstrap=True, criterion=entropy, max_depth=None, max_features=auto, max_leaf_nodes=None, min_impurity_decrease=0.0, min_samples_leaf=1, min_samples_split=2, min_weight_fraction_leaf=0.0, n_estimators=10, oob_score=False, random_state=10101, verbose=0, warm_start=True;, score=0.471 total time=   0.2s\n",
            "[CV 1/2] END bootstrap=True, criterion=entropy, max_depth=None, max_features=auto, max_leaf_nodes=None, min_impurity_decrease=0.0, min_samples_leaf=1, min_samples_split=2, min_weight_fraction_leaf=0.0, n_estimators=10, oob_score=False, random_state=10101, verbose=0, warm_start=False;, score=0.516 total time=   0.2s\n",
            "[CV 2/2] END bootstrap=True, criterion=entropy, max_depth=None, max_features=auto, max_leaf_nodes=None, min_impurity_decrease=0.0, min_samples_leaf=1, min_samples_split=2, min_weight_fraction_leaf=0.0, n_estimators=10, oob_score=False, random_state=10101, verbose=0, warm_start=False;, score=0.471 total time=   0.3s\n",
            "[CV 1/2] END bootstrap=True, criterion=entropy, max_depth=None, max_features=auto, max_leaf_nodes=None, min_impurity_decrease=0.0, min_samples_leaf=1, min_samples_split=2, min_weight_fraction_leaf=0.0, n_estimators=10, oob_score=False, random_state=10101, verbose=0, warm_start=True;, score=0.516 total time=   0.4s\n",
            "[CV 2/2] END bootstrap=True, criterion=entropy, max_depth=None, max_features=auto, max_leaf_nodes=None, min_impurity_decrease=0.0, min_samples_leaf=1, min_samples_split=2, min_weight_fraction_leaf=0.0, n_estimators=10, oob_score=False, random_state=10101, verbose=0, warm_start=True;, score=0.471 total time=   0.3s\n",
            "[CV 1/2] END bootstrap=True, criterion=entropy, max_depth=None, max_features=auto, max_leaf_nodes=None, min_impurity_decrease=0.0, min_samples_leaf=1, min_samples_split=2, min_weight_fraction_leaf=0.0, n_estimators=100, oob_score=False, random_state=10101, verbose=0, warm_start=False;, score=0.600 total time=   2.1s\n",
            "[CV 2/2] END bootstrap=True, criterion=entropy, max_depth=None, max_features=auto, max_leaf_nodes=None, min_impurity_decrease=0.0, min_samples_leaf=1, min_samples_split=2, min_weight_fraction_leaf=0.0, n_estimators=100, oob_score=False, random_state=10101, verbose=0, warm_start=False;, score=0.531 total time=   2.2s\n",
            "[CV 2/2] END bootstrap=True, criterion=entropy, max_depth=None, max_features=auto, max_leaf_nodes=None, min_impurity_decrease=0.0, min_samples_leaf=1, min_samples_split=2, min_weight_fraction_leaf=0.0, n_estimators=100, oob_score=False, random_state=10101, verbose=0, warm_start=True;, score=0.531 total time=   1.6s\n",
            "[CV 1/2] END bootstrap=True, criterion=entropy, max_depth=None, max_features=auto, max_leaf_nodes=None, min_impurity_decrease=0.0, min_samples_leaf=1, min_samples_split=2, min_weight_fraction_leaf=0.0, n_estimators=100, oob_score=False, random_state=10101, verbose=0, warm_start=True;, score=0.600 total time=   1.8s\n",
            "[CV 1/2] END bootstrap=True, criterion=entropy, max_depth=None, max_features=auto, max_leaf_nodes=None, min_impurity_decrease=0.0, min_samples_leaf=1, min_samples_split=2, min_weight_fraction_leaf=0.0, n_estimators=100, oob_score=False, random_state=10101, verbose=0, warm_start=False;, score=0.600 total time=   2.3s\n",
            "[CV 2/2] END bootstrap=True, criterion=entropy, max_depth=None, max_features=auto, max_leaf_nodes=None, min_impurity_decrease=0.0, min_samples_leaf=1, min_samples_split=2, min_weight_fraction_leaf=0.0, n_estimators=100, oob_score=False, random_state=10101, verbose=0, warm_start=False;, score=0.531 total time=   2.4s\n",
            "[CV 1/2] END bootstrap=True, criterion=entropy, max_depth=None, max_features=auto, max_leaf_nodes=None, min_impurity_decrease=0.0, min_samples_leaf=1, min_samples_split=2, min_weight_fraction_leaf=0.0, n_estimators=100, oob_score=False, random_state=10101, verbose=0, warm_start=True;, score=0.600 total time=   2.1s\n",
            "[CV 2/2] END bootstrap=True, criterion=entropy, max_depth=None, max_features=auto, max_leaf_nodes=None, min_impurity_decrease=0.0, min_samples_leaf=1, min_samples_split=2, min_weight_fraction_leaf=0.0, n_estimators=100, oob_score=False, random_state=10101, verbose=0, warm_start=True;, score=0.531 total time=   2.0s\n",
            "[CV 1/2] END bootstrap=True, criterion=entropy, max_depth=None, max_features=auto, max_leaf_nodes=None, min_impurity_decrease=0.0, min_samples_leaf=1, min_samples_split=2, min_weight_fraction_leaf=0.0, n_estimators=300, oob_score=False, random_state=10101, verbose=0, warm_start=False;, score=0.614 total time=   4.4s\n",
            "[CV 2/2] END bootstrap=True, criterion=entropy, max_depth=None, max_features=auto, max_leaf_nodes=None, min_impurity_decrease=0.0, min_samples_leaf=1, min_samples_split=2, min_weight_fraction_leaf=0.0, n_estimators=300, oob_score=False, random_state=10101, verbose=0, warm_start=False;, score=0.549 total time=   4.2s\n",
            "[CV 2/2] END bootstrap=True, criterion=entropy, max_depth=None, max_features=auto, max_leaf_nodes=None, min_impurity_decrease=0.0, min_samples_leaf=1, min_samples_split=2, min_weight_fraction_leaf=0.0, n_estimators=300, oob_score=False, random_state=10101, verbose=0, warm_start=True;, score=0.549 total time=   4.2s\n",
            "[CV 1/2] END bootstrap=True, criterion=entropy, max_depth=None, max_features=auto, max_leaf_nodes=None, min_impurity_decrease=0.0, min_samples_leaf=1, min_samples_split=2, min_weight_fraction_leaf=0.0, n_estimators=300, oob_score=False, random_state=10101, verbose=0, warm_start=True;, score=0.614 total time=   4.4s\n",
            "[CV 2/2] END bootstrap=True, criterion=entropy, max_depth=None, max_features=auto, max_leaf_nodes=None, min_impurity_decrease=0.0, min_samples_leaf=1, min_samples_split=2, min_weight_fraction_leaf=0.0, n_estimators=300, oob_score=False, random_state=10101, verbose=0, warm_start=False;, score=0.549 total time=   5.7s\n",
            "[CV 1/2] END bootstrap=True, criterion=entropy, max_depth=None, max_features=auto, max_leaf_nodes=None, min_impurity_decrease=0.0, min_samples_leaf=1, min_samples_split=2, min_weight_fraction_leaf=0.0, n_estimators=300, oob_score=False, random_state=10101, verbose=0, warm_start=False;, score=0.614 total time=   5.9s\n",
            "[CV 2/2] END bootstrap=True, criterion=entropy, max_depth=None, max_features=auto, max_leaf_nodes=None, min_impurity_decrease=0.0, min_samples_leaf=1, min_samples_split=2, min_weight_fraction_leaf=0.0, n_estimators=300, oob_score=False, random_state=10101, verbose=0, warm_start=True;, score=0.549 total time=   4.2s\n",
            "[CV 1/2] END bootstrap=True, criterion=entropy, max_depth=None, max_features=auto, max_leaf_nodes=None, min_impurity_decrease=0.0, min_samples_leaf=1, min_samples_split=2, min_weight_fraction_leaf=0.0, n_estimators=300, oob_score=False, random_state=10101, verbose=0, warm_start=True;, score=0.614 total time=   4.4s\n",
            "[CV 1/2] END bootstrap=True, criterion=log_loss, max_depth=None, max_features=auto, max_leaf_nodes=None, min_impurity_decrease=0.0, min_samples_leaf=1, min_samples_split=2, min_weight_fraction_leaf=0.0, n_estimators=10, oob_score=False, random_state=10101, verbose=0, warm_start=False;, score=0.516 total time=   0.2s\n",
            "[CV 2/2] END bootstrap=True, criterion=log_loss, max_depth=None, max_features=auto, max_leaf_nodes=None, min_impurity_decrease=0.0, min_samples_leaf=1, min_samples_split=2, min_weight_fraction_leaf=0.0, n_estimators=10, oob_score=False, random_state=10101, verbose=0, warm_start=False;, score=0.471 total time=   0.2s\n",
            "[CV 1/2] END bootstrap=True, criterion=log_loss, max_depth=None, max_features=auto, max_leaf_nodes=None, min_impurity_decrease=0.0, min_samples_leaf=1, min_samples_split=2, min_weight_fraction_leaf=0.0, n_estimators=10, oob_score=False, random_state=10101, verbose=0, warm_start=True;, score=0.516 total time=   0.2s\n",
            "[CV 2/2] END bootstrap=True, criterion=log_loss, max_depth=None, max_features=auto, max_leaf_nodes=None, min_impurity_decrease=0.0, min_samples_leaf=1, min_samples_split=2, min_weight_fraction_leaf=0.0, n_estimators=10, oob_score=False, random_state=10101, verbose=0, warm_start=True;, score=0.471 total time=   0.2s\n",
            "[CV 1/2] END bootstrap=True, criterion=log_loss, max_depth=None, max_features=auto, max_leaf_nodes=None, min_impurity_decrease=0.0, min_samples_leaf=1, min_samples_split=2, min_weight_fraction_leaf=0.0, n_estimators=10, oob_score=False, random_state=10101, verbose=0, warm_start=False;, score=0.516 total time=   0.2s\n",
            "[CV 2/2] END bootstrap=True, criterion=log_loss, max_depth=None, max_features=auto, max_leaf_nodes=None, min_impurity_decrease=0.0, min_samples_leaf=1, min_samples_split=2, min_weight_fraction_leaf=0.0, n_estimators=10, oob_score=False, random_state=10101, verbose=0, warm_start=False;, score=0.471 total time=   0.2s\n",
            "[CV 1/2] END bootstrap=True, criterion=log_loss, max_depth=None, max_features=auto, max_leaf_nodes=None, min_impurity_decrease=0.0, min_samples_leaf=1, min_samples_split=2, min_weight_fraction_leaf=0.0, n_estimators=10, oob_score=False, random_state=10101, verbose=0, warm_start=True;, score=0.516 total time=   0.2s\n",
            "[CV 2/2] END bootstrap=True, criterion=log_loss, max_depth=None, max_features=auto, max_leaf_nodes=None, min_impurity_decrease=0.0, min_samples_leaf=1, min_samples_split=2, min_weight_fraction_leaf=0.0, n_estimators=10, oob_score=False, random_state=10101, verbose=0, warm_start=True;, score=0.471 total time=   0.2s\n",
            "[CV 2/2] END bootstrap=True, criterion=log_loss, max_depth=None, max_features=auto, max_leaf_nodes=None, min_impurity_decrease=0.0, min_samples_leaf=1, min_samples_split=2, min_weight_fraction_leaf=0.0, n_estimators=100, oob_score=False, random_state=10101, verbose=0, warm_start=False;, score=0.531 total time=   1.4s\n",
            "[CV 1/2] END bootstrap=True, criterion=log_loss, max_depth=None, max_features=auto, max_leaf_nodes=None, min_impurity_decrease=0.0, min_samples_leaf=1, min_samples_split=2, min_weight_fraction_leaf=0.0, n_estimators=100, oob_score=False, random_state=10101, verbose=0, warm_start=False;, score=0.600 total time=   1.5s\n",
            "[CV 2/2] END bootstrap=True, criterion=log_loss, max_depth=None, max_features=auto, max_leaf_nodes=None, min_impurity_decrease=0.0, min_samples_leaf=1, min_samples_split=2, min_weight_fraction_leaf=0.0, n_estimators=100, oob_score=False, random_state=10101, verbose=0, warm_start=True;, score=0.531 total time=   1.4s\n",
            "[CV 1/2] END bootstrap=True, criterion=log_loss, max_depth=None, max_features=auto, max_leaf_nodes=None, min_impurity_decrease=0.0, min_samples_leaf=1, min_samples_split=2, min_weight_fraction_leaf=0.0, n_estimators=100, oob_score=False, random_state=10101, verbose=0, warm_start=True;, score=0.600 total time=   1.4s\n",
            "[CV 2/2] END bootstrap=True, criterion=log_loss, max_depth=None, max_features=auto, max_leaf_nodes=None, min_impurity_decrease=0.0, min_samples_leaf=1, min_samples_split=2, min_weight_fraction_leaf=0.0, n_estimators=100, oob_score=False, random_state=10101, verbose=0, warm_start=False;, score=0.531 total time=   1.4s\n",
            "[CV 1/2] END bootstrap=True, criterion=log_loss, max_depth=None, max_features=auto, max_leaf_nodes=None, min_impurity_decrease=0.0, min_samples_leaf=1, min_samples_split=2, min_weight_fraction_leaf=0.0, n_estimators=100, oob_score=False, random_state=10101, verbose=0, warm_start=False;, score=0.600 total time=   1.5s\n",
            "[CV 2/2] END bootstrap=True, criterion=log_loss, max_depth=None, max_features=auto, max_leaf_nodes=None, min_impurity_decrease=0.0, min_samples_leaf=1, min_samples_split=2, min_weight_fraction_leaf=0.0, n_estimators=100, oob_score=False, random_state=10101, verbose=0, warm_start=True;, score=0.531 total time=   2.3s\n",
            "[CV 1/2] END bootstrap=True, criterion=log_loss, max_depth=None, max_features=auto, max_leaf_nodes=None, min_impurity_decrease=0.0, min_samples_leaf=1, min_samples_split=2, min_weight_fraction_leaf=0.0, n_estimators=100, oob_score=False, random_state=10101, verbose=0, warm_start=True;, score=0.600 total time=   2.5s\n",
            "[CV 2/2] END bootstrap=True, criterion=log_loss, max_depth=None, max_features=auto, max_leaf_nodes=None, min_impurity_decrease=0.0, min_samples_leaf=1, min_samples_split=2, min_weight_fraction_leaf=0.0, n_estimators=300, oob_score=False, random_state=10101, verbose=0, warm_start=False;, score=0.549 total time=   4.6s\n",
            "[CV 1/2] END bootstrap=True, criterion=log_loss, max_depth=None, max_features=auto, max_leaf_nodes=None, min_impurity_decrease=0.0, min_samples_leaf=1, min_samples_split=2, min_weight_fraction_leaf=0.0, n_estimators=300, oob_score=False, random_state=10101, verbose=0, warm_start=False;, score=0.614 total time=   4.9s\n",
            "[CV 1/2] END bootstrap=True, criterion=log_loss, max_depth=None, max_features=auto, max_leaf_nodes=None, min_impurity_decrease=0.0, min_samples_leaf=1, min_samples_split=2, min_weight_fraction_leaf=0.0, n_estimators=300, oob_score=False, random_state=10101, verbose=0, warm_start=True;, score=0.614 total time=   4.3s\n",
            "[CV 2/2] END bootstrap=True, criterion=log_loss, max_depth=None, max_features=auto, max_leaf_nodes=None, min_impurity_decrease=0.0, min_samples_leaf=1, min_samples_split=2, min_weight_fraction_leaf=0.0, n_estimators=300, oob_score=False, random_state=10101, verbose=0, warm_start=True;, score=0.549 total time=   4.1s\n",
            "[CV 2/2] END bootstrap=True, criterion=log_loss, max_depth=None, max_features=auto, max_leaf_nodes=None, min_impurity_decrease=0.0, min_samples_leaf=1, min_samples_split=2, min_weight_fraction_leaf=0.0, n_estimators=300, oob_score=False, random_state=10101, verbose=0, warm_start=False;, score=0.549 total time=   4.9s\n",
            "[CV 1/2] END bootstrap=True, criterion=log_loss, max_depth=None, max_features=auto, max_leaf_nodes=None, min_impurity_decrease=0.0, min_samples_leaf=1, min_samples_split=2, min_weight_fraction_leaf=0.0, n_estimators=300, oob_score=False, random_state=10101, verbose=0, warm_start=False;, score=0.614 total time=   5.6s\n",
            "[CV 1/2] END bootstrap=True, criterion=log_loss, max_depth=None, max_features=auto, max_leaf_nodes=None, min_impurity_decrease=0.0, min_samples_leaf=1, min_samples_split=2, min_weight_fraction_leaf=0.0, n_estimators=300, oob_score=False, random_state=10101, verbose=0, warm_start=True;, score=0.614 total time=   4.9s\n",
            "[CV 1/2] END bootstrap=False, criterion=gini, max_depth=None, max_features=auto, max_leaf_nodes=None, min_impurity_decrease=0.0, min_samples_leaf=1, min_samples_split=2, min_weight_fraction_leaf=0.0, n_estimators=10, oob_score=False, random_state=10101, verbose=0, warm_start=False;, score=0.514 total time=   0.1s\n",
            "[CV 2/2] END bootstrap=True, criterion=log_loss, max_depth=None, max_features=auto, max_leaf_nodes=None, min_impurity_decrease=0.0, min_samples_leaf=1, min_samples_split=2, min_weight_fraction_leaf=0.0, n_estimators=300, oob_score=False, random_state=10101, verbose=0, warm_start=True;, score=0.549 total time=   4.5s\n",
            "[CV 2/2] END bootstrap=False, criterion=gini, max_depth=None, max_features=auto, max_leaf_nodes=None, min_impurity_decrease=0.0, min_samples_leaf=1, min_samples_split=2, min_weight_fraction_leaf=0.0, n_estimators=10, oob_score=False, random_state=10101, verbose=0, warm_start=False;, score=0.479 total time=   0.1s\n",
            "[CV 1/2] END bootstrap=False, criterion=gini, max_depth=None, max_features=auto, max_leaf_nodes=None, min_impurity_decrease=0.0, min_samples_leaf=1, min_samples_split=2, min_weight_fraction_leaf=0.0, n_estimators=10, oob_score=False, random_state=10101, verbose=0, warm_start=True;, score=0.514 total time=   0.2s\n",
            "[CV 2/2] END bootstrap=False, criterion=gini, max_depth=None, max_features=auto, max_leaf_nodes=None, min_impurity_decrease=0.0, min_samples_leaf=1, min_samples_split=2, min_weight_fraction_leaf=0.0, n_estimators=10, oob_score=False, random_state=10101, verbose=0, warm_start=True;, score=0.479 total time=   0.1s\n",
            "[CV 1/2] END bootstrap=False, criterion=gini, max_depth=None, max_features=auto, max_leaf_nodes=None, min_impurity_decrease=0.0, min_samples_leaf=1, min_samples_split=2, min_weight_fraction_leaf=0.0, n_estimators=10, oob_score=False, random_state=10101, verbose=0, warm_start=False;, score=0.514 total time=   0.1s\n",
            "[CV 2/2] END bootstrap=False, criterion=gini, max_depth=None, max_features=auto, max_leaf_nodes=None, min_impurity_decrease=0.0, min_samples_leaf=1, min_samples_split=2, min_weight_fraction_leaf=0.0, n_estimators=10, oob_score=False, random_state=10101, verbose=0, warm_start=False;, score=0.479 total time=   0.1s\n",
            "[CV 1/2] END bootstrap=False, criterion=gini, max_depth=None, max_features=auto, max_leaf_nodes=None, min_impurity_decrease=0.0, min_samples_leaf=1, min_samples_split=2, min_weight_fraction_leaf=0.0, n_estimators=10, oob_score=False, random_state=10101, verbose=0, warm_start=True;, score=0.514 total time=   0.1s\n",
            "[CV 2/2] END bootstrap=False, criterion=gini, max_depth=None, max_features=auto, max_leaf_nodes=None, min_impurity_decrease=0.0, min_samples_leaf=1, min_samples_split=2, min_weight_fraction_leaf=0.0, n_estimators=10, oob_score=False, random_state=10101, verbose=0, warm_start=True;, score=0.479 total time=   0.1s\n",
            "[CV 2/2] END bootstrap=False, criterion=gini, max_depth=None, max_features=auto, max_leaf_nodes=None, min_impurity_decrease=0.0, min_samples_leaf=1, min_samples_split=2, min_weight_fraction_leaf=0.0, n_estimators=100, oob_score=False, random_state=10101, verbose=0, warm_start=False;, score=0.562 total time=   1.1s[CV 1/2] END bootstrap=False, criterion=gini, max_depth=None, max_features=auto, max_leaf_nodes=None, min_impurity_decrease=0.0, min_samples_leaf=1, min_samples_split=2, min_weight_fraction_leaf=0.0, n_estimators=100, oob_score=False, random_state=10101, verbose=0, warm_start=False;, score=0.619 total time=   1.1s\n",
            "\n",
            "[CV 2/2] END bootstrap=False, criterion=gini, max_depth=None, max_features=auto, max_leaf_nodes=None, min_impurity_decrease=0.0, min_samples_leaf=1, min_samples_split=2, min_weight_fraction_leaf=0.0, n_estimators=100, oob_score=False, random_state=10101, verbose=0, warm_start=True;, score=0.562 total time=   1.1s\n",
            "[CV 1/2] END bootstrap=False, criterion=gini, max_depth=None, max_features=auto, max_leaf_nodes=None, min_impurity_decrease=0.0, min_samples_leaf=1, min_samples_split=2, min_weight_fraction_leaf=0.0, n_estimators=100, oob_score=False, random_state=10101, verbose=0, warm_start=True;, score=0.619 total time=   1.1s\n",
            "[CV 1/2] END bootstrap=False, criterion=gini, max_depth=None, max_features=auto, max_leaf_nodes=None, min_impurity_decrease=0.0, min_samples_leaf=1, min_samples_split=2, min_weight_fraction_leaf=0.0, n_estimators=100, oob_score=False, random_state=10101, verbose=0, warm_start=False;, score=0.619 total time=   1.1s\n",
            "[CV 2/2] END bootstrap=False, criterion=gini, max_depth=None, max_features=auto, max_leaf_nodes=None, min_impurity_decrease=0.0, min_samples_leaf=1, min_samples_split=2, min_weight_fraction_leaf=0.0, n_estimators=100, oob_score=False, random_state=10101, verbose=0, warm_start=False;, score=0.562 total time=   1.1s\n",
            "[CV 2/2] END bootstrap=False, criterion=gini, max_depth=None, max_features=auto, max_leaf_nodes=None, min_impurity_decrease=0.0, min_samples_leaf=1, min_samples_split=2, min_weight_fraction_leaf=0.0, n_estimators=100, oob_score=False, random_state=10101, verbose=0, warm_start=True;, score=0.562 total time=   1.1s[CV 1/2] END bootstrap=False, criterion=gini, max_depth=None, max_features=auto, max_leaf_nodes=None, min_impurity_decrease=0.0, min_samples_leaf=1, min_samples_split=2, min_weight_fraction_leaf=0.0, n_estimators=100, oob_score=False, random_state=10101, verbose=0, warm_start=True;, score=0.619 total time=   1.1s\n",
            "\n",
            "[CV 2/2] END bootstrap=False, criterion=gini, max_depth=None, max_features=auto, max_leaf_nodes=None, min_impurity_decrease=0.0, min_samples_leaf=1, min_samples_split=2, min_weight_fraction_leaf=0.0, n_estimators=300, oob_score=False, random_state=10101, verbose=0, warm_start=False;, score=0.567 total time=   4.3s\n",
            "[CV 1/2] END bootstrap=False, criterion=gini, max_depth=None, max_features=auto, max_leaf_nodes=None, min_impurity_decrease=0.0, min_samples_leaf=1, min_samples_split=2, min_weight_fraction_leaf=0.0, n_estimators=300, oob_score=False, random_state=10101, verbose=0, warm_start=False;, score=0.625 total time=   4.4s\n",
            "[CV 2/2] END bootstrap=False, criterion=gini, max_depth=None, max_features=auto, max_leaf_nodes=None, min_impurity_decrease=0.0, min_samples_leaf=1, min_samples_split=2, min_weight_fraction_leaf=0.0, n_estimators=300, oob_score=False, random_state=10101, verbose=0, warm_start=True;, score=0.567 total time=   3.6s\n",
            "[CV 1/2] END bootstrap=False, criterion=gini, max_depth=None, max_features=auto, max_leaf_nodes=None, min_impurity_decrease=0.0, min_samples_leaf=1, min_samples_split=2, min_weight_fraction_leaf=0.0, n_estimators=300, oob_score=False, random_state=10101, verbose=0, warm_start=True;, score=0.625 total time=   3.8s\n",
            "[CV 2/2] END bootstrap=False, criterion=gini, max_depth=None, max_features=auto, max_leaf_nodes=None, min_impurity_decrease=0.0, min_samples_leaf=1, min_samples_split=2, min_weight_fraction_leaf=0.0, n_estimators=300, oob_score=False, random_state=10101, verbose=0, warm_start=False;, score=0.567 total time=   3.2s\n",
            "[CV 1/2] END bootstrap=False, criterion=gini, max_depth=None, max_features=auto, max_leaf_nodes=None, min_impurity_decrease=0.0, min_samples_leaf=1, min_samples_split=2, min_weight_fraction_leaf=0.0, n_estimators=300, oob_score=False, random_state=10101, verbose=0, warm_start=False;, score=0.625 total time=   3.3s\n",
            "[CV 1/2] END bootstrap=False, criterion=gini, max_depth=None, max_features=auto, max_leaf_nodes=None, min_impurity_decrease=0.0, min_samples_leaf=1, min_samples_split=2, min_weight_fraction_leaf=0.0, n_estimators=300, oob_score=False, random_state=10101, verbose=0, warm_start=True;, score=0.625 total time=   3.2s\n",
            "[CV 2/2] END bootstrap=False, criterion=gini, max_depth=None, max_features=auto, max_leaf_nodes=None, min_impurity_decrease=0.0, min_samples_leaf=1, min_samples_split=2, min_weight_fraction_leaf=0.0, n_estimators=300, oob_score=False, random_state=10101, verbose=0, warm_start=True;, score=0.567 total time=   3.2s\n",
            "[CV 1/2] END bootstrap=False, criterion=entropy, max_depth=None, max_features=auto, max_leaf_nodes=None, min_impurity_decrease=0.0, min_samples_leaf=1, min_samples_split=2, min_weight_fraction_leaf=0.0, n_estimators=10, oob_score=False, random_state=10101, verbose=0, warm_start=False;, score=0.529 total time=   0.2s\n",
            "[CV 2/2] END bootstrap=False, criterion=entropy, max_depth=None, max_features=auto, max_leaf_nodes=None, min_impurity_decrease=0.0, min_samples_leaf=1, min_samples_split=2, min_weight_fraction_leaf=0.0, n_estimators=10, oob_score=False, random_state=10101, verbose=0, warm_start=False;, score=0.507 total time=   0.2s\n",
            "[CV 2/2] END bootstrap=False, criterion=entropy, max_depth=None, max_features=auto, max_leaf_nodes=None, min_impurity_decrease=0.0, min_samples_leaf=1, min_samples_split=2, min_weight_fraction_leaf=0.0, n_estimators=10, oob_score=False, random_state=10101, verbose=0, warm_start=True;, score=0.507 total time=   0.2s[CV 1/2] END bootstrap=False, criterion=entropy, max_depth=None, max_features=auto, max_leaf_nodes=None, min_impurity_decrease=0.0, min_samples_leaf=1, min_samples_split=2, min_weight_fraction_leaf=0.0, n_estimators=10, oob_score=False, random_state=10101, verbose=0, warm_start=True;, score=0.529 total time=   0.3s\n",
            "\n",
            "[CV 2/2] END bootstrap=False, criterion=entropy, max_depth=None, max_features=auto, max_leaf_nodes=None, min_impurity_decrease=0.0, min_samples_leaf=1, min_samples_split=2, min_weight_fraction_leaf=0.0, n_estimators=10, oob_score=False, random_state=10101, verbose=0, warm_start=False;, score=0.507 total time=   0.2s\n",
            "[CV 1/2] END bootstrap=False, criterion=entropy, max_depth=None, max_features=auto, max_leaf_nodes=None, min_impurity_decrease=0.0, min_samples_leaf=1, min_samples_split=2, min_weight_fraction_leaf=0.0, n_estimators=10, oob_score=False, random_state=10101, verbose=0, warm_start=False;, score=0.529 total time=   0.3s\n",
            "[CV 2/2] END bootstrap=False, criterion=entropy, max_depth=None, max_features=auto, max_leaf_nodes=None, min_impurity_decrease=0.0, min_samples_leaf=1, min_samples_split=2, min_weight_fraction_leaf=0.0, n_estimators=10, oob_score=False, random_state=10101, verbose=0, warm_start=True;, score=0.507 total time=   0.2s\n",
            "[CV 1/2] END bootstrap=False, criterion=entropy, max_depth=None, max_features=auto, max_leaf_nodes=None, min_impurity_decrease=0.0, min_samples_leaf=1, min_samples_split=2, min_weight_fraction_leaf=0.0, n_estimators=10, oob_score=False, random_state=10101, verbose=0, warm_start=True;, score=0.529 total time=   0.2s\n",
            "[CV 2/2] END bootstrap=False, criterion=entropy, max_depth=None, max_features=auto, max_leaf_nodes=None, min_impurity_decrease=0.0, min_samples_leaf=1, min_samples_split=2, min_weight_fraction_leaf=0.0, n_estimators=100, oob_score=False, random_state=10101, verbose=0, warm_start=False;, score=0.592 total time=   3.0s\n",
            "[CV 1/2] END bootstrap=False, criterion=entropy, max_depth=None, max_features=auto, max_leaf_nodes=None, min_impurity_decrease=0.0, min_samples_leaf=1, min_samples_split=2, min_weight_fraction_leaf=0.0, n_estimators=100, oob_score=False, random_state=10101, verbose=0, warm_start=False;, score=0.638 total time=   3.9s\n",
            "[CV 1/2] END bootstrap=False, criterion=entropy, max_depth=None, max_features=auto, max_leaf_nodes=None, min_impurity_decrease=0.0, min_samples_leaf=1, min_samples_split=2, min_weight_fraction_leaf=0.0, n_estimators=100, oob_score=False, random_state=10101, verbose=0, warm_start=True;, score=0.638 total time=   2.7s\n",
            "[CV 2/2] END bootstrap=False, criterion=entropy, max_depth=None, max_features=auto, max_leaf_nodes=None, min_impurity_decrease=0.0, min_samples_leaf=1, min_samples_split=2, min_weight_fraction_leaf=0.0, n_estimators=100, oob_score=False, random_state=10101, verbose=0, warm_start=True;, score=0.592 total time=   2.1s\n",
            "[CV 1/2] END bootstrap=False, criterion=entropy, max_depth=None, max_features=auto, max_leaf_nodes=None, min_impurity_decrease=0.0, min_samples_leaf=1, min_samples_split=2, min_weight_fraction_leaf=0.0, n_estimators=100, oob_score=False, random_state=10101, verbose=0, warm_start=False;, score=0.638 total time=   2.2s\n",
            "[CV 2/2] END bootstrap=False, criterion=entropy, max_depth=None, max_features=auto, max_leaf_nodes=None, min_impurity_decrease=0.0, min_samples_leaf=1, min_samples_split=2, min_weight_fraction_leaf=0.0, n_estimators=100, oob_score=False, random_state=10101, verbose=0, warm_start=False;, score=0.592 total time=   2.1s\n",
            "[CV 1/2] END bootstrap=False, criterion=entropy, max_depth=None, max_features=auto, max_leaf_nodes=None, min_impurity_decrease=0.0, min_samples_leaf=1, min_samples_split=2, min_weight_fraction_leaf=0.0, n_estimators=100, oob_score=False, random_state=10101, verbose=0, warm_start=True;, score=0.638 total time=   2.2s\n",
            "[CV 2/2] END bootstrap=False, criterion=entropy, max_depth=None, max_features=auto, max_leaf_nodes=None, min_impurity_decrease=0.0, min_samples_leaf=1, min_samples_split=2, min_weight_fraction_leaf=0.0, n_estimators=100, oob_score=False, random_state=10101, verbose=0, warm_start=True;, score=0.592 total time=   2.1s\n",
            "[CV 2/2] END bootstrap=False, criterion=entropy, max_depth=None, max_features=auto, max_leaf_nodes=None, min_impurity_decrease=0.0, min_samples_leaf=1, min_samples_split=2, min_weight_fraction_leaf=0.0, n_estimators=300, oob_score=False, random_state=10101, verbose=0, warm_start=False;, score=0.584 total time=   7.5s\n",
            "[CV 1/2] END bootstrap=False, criterion=entropy, max_depth=None, max_features=auto, max_leaf_nodes=None, min_impurity_decrease=0.0, min_samples_leaf=1, min_samples_split=2, min_weight_fraction_leaf=0.0, n_estimators=300, oob_score=False, random_state=10101, verbose=0, warm_start=False;, score=0.633 total time=   8.2s\n",
            "[CV 1/2] END bootstrap=False, criterion=entropy, max_depth=None, max_features=auto, max_leaf_nodes=None, min_impurity_decrease=0.0, min_samples_leaf=1, min_samples_split=2, min_weight_fraction_leaf=0.0, n_estimators=300, oob_score=False, random_state=10101, verbose=0, warm_start=True;, score=0.633 total time=   6.7s\n",
            "[CV 2/2] END bootstrap=False, criterion=entropy, max_depth=None, max_features=auto, max_leaf_nodes=None, min_impurity_decrease=0.0, min_samples_leaf=1, min_samples_split=2, min_weight_fraction_leaf=0.0, n_estimators=300, oob_score=False, random_state=10101, verbose=0, warm_start=True;, score=0.584 total time=   6.1s\n",
            "[CV 2/2] END bootstrap=False, criterion=entropy, max_depth=None, max_features=auto, max_leaf_nodes=None, min_impurity_decrease=0.0, min_samples_leaf=1, min_samples_split=2, min_weight_fraction_leaf=0.0, n_estimators=300, oob_score=False, random_state=10101, verbose=0, warm_start=False;, score=0.584 total time=  10.6s\n",
            "[CV 1/2] END bootstrap=False, criterion=entropy, max_depth=None, max_features=auto, max_leaf_nodes=None, min_impurity_decrease=0.0, min_samples_leaf=1, min_samples_split=2, min_weight_fraction_leaf=0.0, n_estimators=300, oob_score=False, random_state=10101, verbose=0, warm_start=False;, score=0.633 total time=  11.2s\n",
            "[CV 1/2] END bootstrap=False, criterion=entropy, max_depth=None, max_features=auto, max_leaf_nodes=None, min_impurity_decrease=0.0, min_samples_leaf=1, min_samples_split=2, min_weight_fraction_leaf=0.0, n_estimators=300, oob_score=False, random_state=10101, verbose=0, warm_start=True;, score=0.633 total time=   9.3s\n",
            "[CV 1/2] END bootstrap=False, criterion=log_loss, max_depth=None, max_features=auto, max_leaf_nodes=None, min_impurity_decrease=0.0, min_samples_leaf=1, min_samples_split=2, min_weight_fraction_leaf=0.0, n_estimators=10, oob_score=False, random_state=10101, verbose=0, warm_start=False;, score=0.529 total time=   0.6s\n",
            "[CV 2/2] END bootstrap=False, criterion=entropy, max_depth=None, max_features=auto, max_leaf_nodes=None, min_impurity_decrease=0.0, min_samples_leaf=1, min_samples_split=2, min_weight_fraction_leaf=0.0, n_estimators=300, oob_score=False, random_state=10101, verbose=0, warm_start=True;, score=0.584 total time=   9.8s\n",
            "[CV 2/2] END bootstrap=False, criterion=log_loss, max_depth=None, max_features=auto, max_leaf_nodes=None, min_impurity_decrease=0.0, min_samples_leaf=1, min_samples_split=2, min_weight_fraction_leaf=0.0, n_estimators=10, oob_score=False, random_state=10101, verbose=0, warm_start=False;, score=0.507 total time=   0.6s\n",
            "[CV 1/2] END bootstrap=False, criterion=log_loss, max_depth=None, max_features=auto, max_leaf_nodes=None, min_impurity_decrease=0.0, min_samples_leaf=1, min_samples_split=2, min_weight_fraction_leaf=0.0, n_estimators=10, oob_score=False, random_state=10101, verbose=0, warm_start=True;, score=0.529 total time=   0.7s\n",
            "[CV 2/2] END bootstrap=False, criterion=log_loss, max_depth=None, max_features=auto, max_leaf_nodes=None, min_impurity_decrease=0.0, min_samples_leaf=1, min_samples_split=2, min_weight_fraction_leaf=0.0, n_estimators=10, oob_score=False, random_state=10101, verbose=0, warm_start=True;, score=0.507 total time=   0.6s\n",
            "[CV 2/2] END bootstrap=False, criterion=log_loss, max_depth=None, max_features=auto, max_leaf_nodes=None, min_impurity_decrease=0.0, min_samples_leaf=1, min_samples_split=2, min_weight_fraction_leaf=0.0, n_estimators=10, oob_score=False, random_state=10101, verbose=0, warm_start=False;, score=0.507 total time=   0.5s\n",
            "[CV 1/2] END bootstrap=False, criterion=log_loss, max_depth=None, max_features=auto, max_leaf_nodes=None, min_impurity_decrease=0.0, min_samples_leaf=1, min_samples_split=2, min_weight_fraction_leaf=0.0, n_estimators=10, oob_score=False, random_state=10101, verbose=0, warm_start=False;, score=0.529 total time=   0.6s\n",
            "[CV 1/2] END bootstrap=False, criterion=log_loss, max_depth=None, max_features=auto, max_leaf_nodes=None, min_impurity_decrease=0.0, min_samples_leaf=1, min_samples_split=2, min_weight_fraction_leaf=0.0, n_estimators=10, oob_score=False, random_state=10101, verbose=0, warm_start=True;, score=0.529 total time=   0.5s\n",
            "[CV 2/2] END bootstrap=False, criterion=log_loss, max_depth=None, max_features=auto, max_leaf_nodes=None, min_impurity_decrease=0.0, min_samples_leaf=1, min_samples_split=2, min_weight_fraction_leaf=0.0, n_estimators=10, oob_score=False, random_state=10101, verbose=0, warm_start=True;, score=0.507 total time=   0.4s\n",
            "[CV 2/2] END bootstrap=False, criterion=log_loss, max_depth=None, max_features=auto, max_leaf_nodes=None, min_impurity_decrease=0.0, min_samples_leaf=1, min_samples_split=2, min_weight_fraction_leaf=0.0, n_estimators=100, oob_score=False, random_state=10101, verbose=0, warm_start=False;, score=0.592 total time=   2.6s\n",
            "[CV 1/2] END bootstrap=False, criterion=log_loss, max_depth=None, max_features=auto, max_leaf_nodes=None, min_impurity_decrease=0.0, min_samples_leaf=1, min_samples_split=2, min_weight_fraction_leaf=0.0, n_estimators=100, oob_score=False, random_state=10101, verbose=0, warm_start=False;, score=0.638 total time=   2.7s\n",
            "[CV 1/2] END bootstrap=False, criterion=log_loss, max_depth=None, max_features=auto, max_leaf_nodes=None, min_impurity_decrease=0.0, min_samples_leaf=1, min_samples_split=2, min_weight_fraction_leaf=0.0, n_estimators=100, oob_score=False, random_state=10101, verbose=0, warm_start=True;, score=0.638 total time=   2.6s\n",
            "[CV 2/2] END bootstrap=False, criterion=log_loss, max_depth=None, max_features=auto, max_leaf_nodes=None, min_impurity_decrease=0.0, min_samples_leaf=1, min_samples_split=2, min_weight_fraction_leaf=0.0, n_estimators=100, oob_score=False, random_state=10101, verbose=0, warm_start=True;, score=0.592 total time=   2.7s\n",
            "[CV 2/2] END bootstrap=False, criterion=log_loss, max_depth=None, max_features=auto, max_leaf_nodes=None, min_impurity_decrease=0.0, min_samples_leaf=1, min_samples_split=2, min_weight_fraction_leaf=0.0, n_estimators=100, oob_score=False, random_state=10101, verbose=0, warm_start=False;, score=0.592 total time=   2.7s\n",
            "[CV 1/2] END bootstrap=False, criterion=log_loss, max_depth=None, max_features=auto, max_leaf_nodes=None, min_impurity_decrease=0.0, min_samples_leaf=1, min_samples_split=2, min_weight_fraction_leaf=0.0, n_estimators=100, oob_score=False, random_state=10101, verbose=0, warm_start=False;, score=0.638 total time=   3.1s\n",
            "[CV 1/2] END bootstrap=False, criterion=log_loss, max_depth=None, max_features=auto, max_leaf_nodes=None, min_impurity_decrease=0.0, min_samples_leaf=1, min_samples_split=2, min_weight_fraction_leaf=0.0, n_estimators=100, oob_score=False, random_state=10101, verbose=0, warm_start=True;, score=0.638 total time=   3.2s\n",
            "[CV 2/2] END bootstrap=False, criterion=log_loss, max_depth=None, max_features=auto, max_leaf_nodes=None, min_impurity_decrease=0.0, min_samples_leaf=1, min_samples_split=2, min_weight_fraction_leaf=0.0, n_estimators=100, oob_score=False, random_state=10101, verbose=0, warm_start=True;, score=0.592 total time=   3.9s\n",
            "[CV 1/2] END bootstrap=False, criterion=log_loss, max_depth=None, max_features=auto, max_leaf_nodes=None, min_impurity_decrease=0.0, min_samples_leaf=1, min_samples_split=2, min_weight_fraction_leaf=0.0, n_estimators=300, oob_score=False, random_state=10101, verbose=0, warm_start=False;, score=0.633 total time=  10.0s\n",
            "[CV 2/2] END bootstrap=False, criterion=log_loss, max_depth=None, max_features=auto, max_leaf_nodes=None, min_impurity_decrease=0.0, min_samples_leaf=1, min_samples_split=2, min_weight_fraction_leaf=0.0, n_estimators=300, oob_score=False, random_state=10101, verbose=0, warm_start=False;, score=0.584 total time=   9.2s\n",
            "[CV 2/2] END bootstrap=False, criterion=log_loss, max_depth=None, max_features=auto, max_leaf_nodes=None, min_impurity_decrease=0.0, min_samples_leaf=1, min_samples_split=2, min_weight_fraction_leaf=0.0, n_estimators=300, oob_score=False, random_state=10101, verbose=0, warm_start=True;, score=0.584 total time=   9.9s\n",
            "[CV 1/2] END bootstrap=False, criterion=log_loss, max_depth=None, max_features=auto, max_leaf_nodes=None, min_impurity_decrease=0.0, min_samples_leaf=1, min_samples_split=2, min_weight_fraction_leaf=0.0, n_estimators=300, oob_score=False, random_state=10101, verbose=0, warm_start=True;, score=0.633 total time=  10.5s\n",
            "[CV 1/2] END bootstrap=False, criterion=log_loss, max_depth=None, max_features=auto, max_leaf_nodes=None, min_impurity_decrease=0.0, min_samples_leaf=1, min_samples_split=2, min_weight_fraction_leaf=0.0, n_estimators=300, oob_score=False, random_state=10101, verbose=0, warm_start=False;, score=0.633 total time=   6.6s\n",
            "[CV 2/2] END bootstrap=False, criterion=log_loss, max_depth=None, max_features=auto, max_leaf_nodes=None, min_impurity_decrease=0.0, min_samples_leaf=1, min_samples_split=2, min_weight_fraction_leaf=0.0, n_estimators=300, oob_score=False, random_state=10101, verbose=0, warm_start=False;, score=0.584 total time=   6.4s\n",
            "[CV 1/2] END bootstrap=False, criterion=log_loss, max_depth=None, max_features=auto, max_leaf_nodes=None, min_impurity_decrease=0.0, min_samples_leaf=1, min_samples_split=2, min_weight_fraction_leaf=0.0, n_estimators=300, oob_score=False, random_state=10101, verbose=0, warm_start=True;, score=0.633 total time=   9.2s\n",
            "[CV 2/2] END bootstrap=False, criterion=log_loss, max_depth=None, max_features=auto, max_leaf_nodes=None, min_impurity_decrease=0.0, min_samples_leaf=1, min_samples_split=2, min_weight_fraction_leaf=0.0, n_estimators=300, oob_score=False, random_state=10101, verbose=0, warm_start=True;, score=0.584 total time=   9.2s\n",
            "best combo: \n",
            " {'bootstrap': False, 'criterion': 'entropy', 'max_depth': None, 'max_features': 'auto', 'max_leaf_nodes': None, 'min_impurity_decrease': 0.0, 'min_samples_leaf': 1, 'min_samples_split': 2, 'min_weight_fraction_leaf': 0.0, 'n_estimators': 100, 'oob_score': False, 'random_state': 10101, 'verbose': 0, 'warm_start': False}\n",
            "best estimator: \n",
            " RandomForestClassifier(bootstrap=False, criterion='entropy',\n",
            "                       max_features='auto', random_state=10101)\n"
          ]
        }
      ]
    },
    {
      "cell_type": "markdown",
      "source": [
        "According to this, the best parameters are\n",
        "```\n",
        "{'bootstrap': False, 'criterion': 'entropy', 'max_depth': None, 'max_features': 'auto', 'max_leaf_nodes': None, 'min_impurity_decrease': 0.0, 'min_samples_leaf': 1, 'min_samples_split': 2, 'min_weight_fraction_leaf': 0.0, 'n_estimators': 100, 'oob_score': False, 'random_state': 10101, 'verbose': 0, 'warm_start': False}\n",
        "```\n",
        "\n",
        "I'm gonna go ahead and try what score I'll get with these\n"
      ],
      "metadata": {
        "id": "-FWZNacu-vai"
      }
    },
    {
      "cell_type": "code",
      "source": [
        "model = RandomForestClassifier(\n",
        "    bootstrap = False,\n",
        "    criterion = 'entropy',\n",
        "    max_depth = None,\n",
        "    max_features = 'auto',\n",
        "    max_leaf_nodes = None,\n",
        "    min_impurity_decrease = 0.0,\n",
        "    min_samples_leaf = 1,\n",
        "    min_samples_split = 2,\n",
        "    min_weight_fraction_leaf = 0.0,\n",
        "    n_estimators = 100,\n",
        "    oob_score = False,\n",
        "    random_state = 10101,\n",
        "    warm_start = False\n",
        ")\n",
        "\n",
        "model.fit(X_train, y_train)\n",
        "\n",
        "print(f'Optimized Random Forest Train\\'s score is {100*model.score(X_train, y_train):.2f}%')\n",
        "print(f'Optimized Random Forest Train\\'s score is {100*model.score(X_test, y_test):.2f}%')"
      ],
      "metadata": {
        "colab": {
          "base_uri": "https://localhost:8080/"
        },
        "id": "ZqWYkLqO_HcT",
        "outputId": "9e2d7071-336f-4ed0-9d8a-0e385955b03c"
      },
      "execution_count": null,
      "outputs": [
        {
          "output_type": "stream",
          "name": "stdout",
          "text": [
            "Optimized Random Forest Train's score is 100.00%\n",
            "Optimized Random Forest Train's score is 70.20%\n"
          ]
        }
      ]
    },
    {
      "cell_type": "markdown",
      "source": [
        "Admittedly, I didn't go too much in depth and just tried changing easy to change values like TRUE/FALSE or n_estimators, but even with these small changes I was able to increase the score by another 2%.\n",
        "\n",
        "I'm happy with the 100% Training and 70.20% Test scores, so I'll be moving on to testing other models."
      ],
      "metadata": {
        "id": "iJiwvkRtAUHC"
      }
    },
    {
      "cell_type": "markdown",
      "source": [
        "# KNeighborsClassifier"
      ],
      "metadata": {
        "id": "Wq0ulRF-BOz3"
      }
    },
    {
      "cell_type": "markdown",
      "source": [
        "The next best performing model is the KNeighborsClassifier and I'll be doing the same testing and using simple grid search to find the good params\n",
        "\n",
        "First thing's first, try all three datasets"
      ],
      "metadata": {
        "id": "kbNocL9QBcIQ"
      }
    },
    {
      "cell_type": "code",
      "source": [
        "#default model with seed = 10101\n",
        "model = KNeighborsClassifier(\n",
        ")\n",
        "\n",
        "model.fit(X_train, y_train)\n",
        "print(f'Default Random Forest Model\\'s accuracy on training set is {100*model.score(X_train, y_train):.2f}%')\n",
        "print(f'Default Random Forest Model\\'s accuracy on test set is {100*model.score(X_test, y_test):.2f}%\\n')\n",
        "model.fit(X_train_scaled, y_train)\n",
        "print(f'Default Random Forest Model\\'s accuracy on scaled training set is {100*model.score(X_train_scaled, y_train):.2f}%')\n",
        "print(f'Default Random Forest Model\\'s accuracy on scaled test set is {100*model.score(X_test_scaled, y_test):.2f}%\\n')\n",
        "model.fit(X_train_minmax, y_train)\n",
        "print(f'Default Random Forest Model\\'s accuracy on minmax training set is {100*model.score(X_train_minmax, y_train):.2f}%')\n",
        "print(f'Default Random Forest Model\\'s accuracy on minmaxtest set is {100*model.score(X_test_minmax, y_test):.2f}%\\n')\n"
      ],
      "metadata": {
        "colab": {
          "base_uri": "https://localhost:8080/"
        },
        "id": "bLWLSRu_BbmT",
        "outputId": "ef809038-ea5d-4377-ee65-f56c4b4c85b1"
      },
      "execution_count": null,
      "outputs": [
        {
          "output_type": "stream",
          "name": "stdout",
          "text": [
            "Default Random Forest Model's accuracy on training set is 71.14%\n",
            "Default Random Forest Model's accuracy on test set is 59.60%\n",
            "\n",
            "Default Random Forest Model's accuracy on scaled training set is 76.87%\n",
            "Default Random Forest Model's accuracy on scaled test set is 56.95%\n",
            "\n",
            "Default Random Forest Model's accuracy on minmax training set is 76.87%\n",
            "Default Random Forest Model's accuracy on minmaxtest set is 56.95%\n",
            "\n"
          ]
        }
      ]
    },
    {
      "cell_type": "markdown",
      "source": [
        "Unlike the Random Forest Classifier, this model doesn't seem to be overfitted\n",
        "\n",
        "Likewise, I'll be testing the tuning given in the lab example\n",
        "\n",
        "Each set also had almost identical results"
      ],
      "metadata": {
        "id": "5n0BwMu3Cwtt"
      }
    },
    {
      "cell_type": "markdown",
      "source": [
        "## Comparison against RAVDESS Dataset"
      ],
      "metadata": {
        "id": "TesoxABQXqIJ"
      }
    },
    {
      "cell_type": "markdown",
      "source": [
        "Like earlier, I'll be using the optimizations used in the lab example"
      ],
      "metadata": {
        "id": "_4rJhwkEXy3K"
      }
    },
    {
      "cell_type": "code",
      "source": [
        "#WEEK 3 LAB EXAMPLE\n",
        "\n",
        "##### (hastily) tuned kNN ######\n",
        "model = KNeighborsClassifier(\n",
        "    n_neighbors = 5,\n",
        "    weights = 'distance',\n",
        "    algorithm = 'brute',\n",
        "    n_jobs=4\n",
        ")\n",
        "\n",
        "model.fit(X_train, y_train)\n",
        "\n",
        "print(f'kNN Model\\'s accuracy on training set is {100*model.score(X_train, y_train):.2f}%')\n",
        "print(f'kNN Model\\'s accuracy on test set is {100*model.score(X_test, y_test):.2f}%')"
      ],
      "metadata": {
        "colab": {
          "base_uri": "https://localhost:8080/"
        },
        "id": "Ang27IG8DGBr",
        "outputId": "a7146395-2f8e-44a4-acde-5583c10b1f22"
      },
      "execution_count": 11,
      "outputs": [
        {
          "output_type": "stream",
          "name": "stdout",
          "text": [
            "kNN Model's accuracy on training set is 100.00%\n",
            "kNN Model's accuracy on test set is 61.59%\n"
          ]
        }
      ]
    },
    {
      "cell_type": "markdown",
      "source": [
        "The combined dataset scored about 11%~ higher than the RAVDESS dataset, a bit less than the random forest classifier. For reference, the original RAVDESS only scored the following\n",
        "\n",
        "Training Set: 100%\n",
        "\n",
        "Test Set: 49.48%\n",
        "\n",
        "But like earlier, the combined set once agains scored better than the RAVDESS only set"
      ],
      "metadata": {
        "id": "JVg-N8wQkb11"
      }
    },
    {
      "cell_type": "markdown",
      "source": [
        "## (EXTRA) Further Optimization"
      ],
      "metadata": {
        "id": "5CggH8oWk8BW"
      }
    },
    {
      "cell_type": "markdown",
      "source": [
        "The accuracy jumped up for both training and test set, but I worry that the model is once again overfitted.\n",
        "\n",
        "I'm going to try and optimize it even more using Grid Search again"
      ],
      "metadata": {
        "id": "PnAcBqtLDI-0"
      }
    },
    {
      "cell_type": "code",
      "source": [
        "model = KNeighborsClassifier(\n",
        ")\n",
        "\n",
        "default_params = {\n",
        "    'weights' : ['distance','uniform'],\n",
        "    'algorithm' : ['auto', 'ball_tree', 'kd_tree', 'brute'],\n",
        "    'leaf_size' : [10, 30, 100, 200],\n",
        "    'p' : [1,2],\n",
        "    'metric' : ['minkowski']\n",
        "}\n",
        "\n",
        "grid = GridSearchCV(\n",
        "     model,\n",
        "     default_params,\n",
        "     cv = 2,\n",
        "     n_jobs = 1,\n",
        "     verbose = 3\n",
        ")\n",
        "\n",
        "with parallel_backend('multiprocessing'):\n",
        "    grid.fit(X_train, y_train)\n",
        "\n",
        "print(\"best combo: \\n\", grid.best_params_)"
      ],
      "metadata": {
        "colab": {
          "base_uri": "https://localhost:8080/"
        },
        "id": "NM3um6zZDTFP",
        "outputId": "e16e1a0a-faff-4519-93f3-783cc9f0a474"
      },
      "execution_count": null,
      "outputs": [
        {
          "output_type": "stream",
          "name": "stdout",
          "text": [
            "Fitting 2 folds for each of 64 candidates, totalling 128 fits\n",
            "[CV 1/2] END algorithm=auto, leaf_size=10, metric=minkowski, p=1, weights=distance;, score=0.537 total time=   0.2s\n",
            "[CV 2/2] END algorithm=auto, leaf_size=10, metric=minkowski, p=1, weights=distance;, score=0.542 total time=   0.2s\n",
            "[CV 1/2] END algorithm=auto, leaf_size=10, metric=minkowski, p=1, weights=uniform;, score=0.491 total time=   0.2s\n",
            "[CV 2/2] END algorithm=auto, leaf_size=10, metric=minkowski, p=1, weights=uniform;, score=0.507 total time=   0.4s\n",
            "[CV 1/2] END algorithm=auto, leaf_size=10, metric=minkowski, p=2, weights=distance;, score=0.504 total time=   0.1s\n",
            "[CV 2/2] END algorithm=auto, leaf_size=10, metric=minkowski, p=2, weights=distance;, score=0.473 total time=   0.1s\n",
            "[CV 1/2] END algorithm=auto, leaf_size=10, metric=minkowski, p=2, weights=uniform;, score=0.433 total time=   0.1s\n",
            "[CV 2/2] END algorithm=auto, leaf_size=10, metric=minkowski, p=2, weights=uniform;, score=0.456 total time=   0.1s\n",
            "[CV 1/2] END algorithm=auto, leaf_size=30, metric=minkowski, p=1, weights=distance;, score=0.537 total time=   0.2s\n",
            "[CV 2/2] END algorithm=auto, leaf_size=30, metric=minkowski, p=1, weights=distance;, score=0.542 total time=   0.3s\n",
            "[CV 1/2] END algorithm=auto, leaf_size=30, metric=minkowski, p=1, weights=uniform;, score=0.491 total time=   0.1s\n",
            "[CV 2/2] END algorithm=auto, leaf_size=30, metric=minkowski, p=1, weights=uniform;, score=0.507 total time=   0.1s\n",
            "[CV 1/2] END algorithm=auto, leaf_size=30, metric=minkowski, p=2, weights=distance;, score=0.504 total time=   0.0s\n",
            "[CV 2/2] END algorithm=auto, leaf_size=30, metric=minkowski, p=2, weights=distance;, score=0.473 total time=   0.0s\n",
            "[CV 1/2] END algorithm=auto, leaf_size=30, metric=minkowski, p=2, weights=uniform;, score=0.433 total time=   0.0s\n",
            "[CV 2/2] END algorithm=auto, leaf_size=30, metric=minkowski, p=2, weights=uniform;, score=0.456 total time=   0.0s\n",
            "[CV 1/2] END algorithm=auto, leaf_size=100, metric=minkowski, p=1, weights=distance;, score=0.537 total time=   0.1s\n",
            "[CV 2/2] END algorithm=auto, leaf_size=100, metric=minkowski, p=1, weights=distance;, score=0.542 total time=   0.1s\n",
            "[CV 1/2] END algorithm=auto, leaf_size=100, metric=minkowski, p=1, weights=uniform;, score=0.491 total time=   0.1s\n",
            "[CV 2/2] END algorithm=auto, leaf_size=100, metric=minkowski, p=1, weights=uniform;, score=0.507 total time=   0.1s\n",
            "[CV 1/2] END algorithm=auto, leaf_size=100, metric=minkowski, p=2, weights=distance;, score=0.504 total time=   0.0s\n",
            "[CV 2/2] END algorithm=auto, leaf_size=100, metric=minkowski, p=2, weights=distance;, score=0.473 total time=   0.0s\n",
            "[CV 1/2] END algorithm=auto, leaf_size=100, metric=minkowski, p=2, weights=uniform;, score=0.433 total time=   0.0s\n",
            "[CV 2/2] END algorithm=auto, leaf_size=100, metric=minkowski, p=2, weights=uniform;, score=0.456 total time=   0.1s\n",
            "[CV 1/2] END algorithm=auto, leaf_size=200, metric=minkowski, p=1, weights=distance;, score=0.537 total time=   0.2s\n",
            "[CV 2/2] END algorithm=auto, leaf_size=200, metric=minkowski, p=1, weights=distance;, score=0.542 total time=   0.3s\n",
            "[CV 1/2] END algorithm=auto, leaf_size=200, metric=minkowski, p=1, weights=uniform;, score=0.491 total time=   0.3s\n",
            "[CV 2/2] END algorithm=auto, leaf_size=200, metric=minkowski, p=1, weights=uniform;, score=0.507 total time=   0.2s\n",
            "[CV 1/2] END algorithm=auto, leaf_size=200, metric=minkowski, p=2, weights=distance;, score=0.504 total time=   0.2s\n",
            "[CV 2/2] END algorithm=auto, leaf_size=200, metric=minkowski, p=2, weights=distance;, score=0.473 total time=   0.3s\n",
            "[CV 1/2] END algorithm=auto, leaf_size=200, metric=minkowski, p=2, weights=uniform;, score=0.433 total time=   0.1s\n",
            "[CV 2/2] END algorithm=auto, leaf_size=200, metric=minkowski, p=2, weights=uniform;, score=0.456 total time=   0.1s\n",
            "[CV 1/2] END algorithm=ball_tree, leaf_size=10, metric=minkowski, p=1, weights=distance;, score=0.537 total time=   0.3s\n",
            "[CV 2/2] END algorithm=ball_tree, leaf_size=10, metric=minkowski, p=1, weights=distance;, score=0.542 total time=   0.3s\n",
            "[CV 1/2] END algorithm=ball_tree, leaf_size=10, metric=minkowski, p=1, weights=uniform;, score=0.491 total time=   0.3s\n",
            "[CV 2/2] END algorithm=ball_tree, leaf_size=10, metric=minkowski, p=1, weights=uniform;, score=0.507 total time=   0.2s\n",
            "[CV 1/2] END algorithm=ball_tree, leaf_size=10, metric=minkowski, p=2, weights=distance;, score=0.504 total time=   0.2s\n",
            "[CV 2/2] END algorithm=ball_tree, leaf_size=10, metric=minkowski, p=2, weights=distance;, score=0.473 total time=   0.2s\n",
            "[CV 1/2] END algorithm=ball_tree, leaf_size=10, metric=minkowski, p=2, weights=uniform;, score=0.433 total time=   0.2s\n",
            "[CV 2/2] END algorithm=ball_tree, leaf_size=10, metric=minkowski, p=2, weights=uniform;, score=0.456 total time=   0.2s\n",
            "[CV 1/2] END algorithm=ball_tree, leaf_size=30, metric=minkowski, p=1, weights=distance;, score=0.537 total time=   0.2s\n",
            "[CV 2/2] END algorithm=ball_tree, leaf_size=30, metric=minkowski, p=1, weights=distance;, score=0.542 total time=   0.2s\n",
            "[CV 1/2] END algorithm=ball_tree, leaf_size=30, metric=minkowski, p=1, weights=uniform;, score=0.491 total time=   0.2s\n",
            "[CV 2/2] END algorithm=ball_tree, leaf_size=30, metric=minkowski, p=1, weights=uniform;, score=0.507 total time=   0.2s\n",
            "[CV 1/2] END algorithm=ball_tree, leaf_size=30, metric=minkowski, p=2, weights=distance;, score=0.504 total time=   0.2s\n",
            "[CV 2/2] END algorithm=ball_tree, leaf_size=30, metric=minkowski, p=2, weights=distance;, score=0.473 total time=   0.2s\n",
            "[CV 1/2] END algorithm=ball_tree, leaf_size=30, metric=minkowski, p=2, weights=uniform;, score=0.433 total time=   0.2s\n",
            "[CV 2/2] END algorithm=ball_tree, leaf_size=30, metric=minkowski, p=2, weights=uniform;, score=0.456 total time=   0.2s\n",
            "[CV 1/2] END algorithm=ball_tree, leaf_size=100, metric=minkowski, p=1, weights=distance;, score=0.537 total time=   0.2s\n",
            "[CV 2/2] END algorithm=ball_tree, leaf_size=100, metric=minkowski, p=1, weights=distance;, score=0.542 total time=   0.2s\n",
            "[CV 1/2] END algorithm=ball_tree, leaf_size=100, metric=minkowski, p=1, weights=uniform;, score=0.491 total time=   0.2s\n",
            "[CV 2/2] END algorithm=ball_tree, leaf_size=100, metric=minkowski, p=1, weights=uniform;, score=0.507 total time=   0.3s\n",
            "[CV 1/2] END algorithm=ball_tree, leaf_size=100, metric=minkowski, p=2, weights=distance;, score=0.504 total time=   0.2s\n",
            "[CV 2/2] END algorithm=ball_tree, leaf_size=100, metric=minkowski, p=2, weights=distance;, score=0.473 total time=   0.2s\n",
            "[CV 1/2] END algorithm=ball_tree, leaf_size=100, metric=minkowski, p=2, weights=uniform;, score=0.433 total time=   0.2s\n",
            "[CV 2/2] END algorithm=ball_tree, leaf_size=100, metric=minkowski, p=2, weights=uniform;, score=0.456 total time=   0.2s\n",
            "[CV 1/2] END algorithm=ball_tree, leaf_size=200, metric=minkowski, p=1, weights=distance;, score=0.537 total time=   0.2s\n",
            "[CV 2/2] END algorithm=ball_tree, leaf_size=200, metric=minkowski, p=1, weights=distance;, score=0.542 total time=   0.2s\n",
            "[CV 1/2] END algorithm=ball_tree, leaf_size=200, metric=minkowski, p=1, weights=uniform;, score=0.491 total time=   0.2s\n",
            "[CV 2/2] END algorithm=ball_tree, leaf_size=200, metric=minkowski, p=1, weights=uniform;, score=0.507 total time=   0.2s\n",
            "[CV 1/2] END algorithm=ball_tree, leaf_size=200, metric=minkowski, p=2, weights=distance;, score=0.504 total time=   0.2s\n",
            "[CV 2/2] END algorithm=ball_tree, leaf_size=200, metric=minkowski, p=2, weights=distance;, score=0.473 total time=   0.2s\n",
            "[CV 1/2] END algorithm=ball_tree, leaf_size=200, metric=minkowski, p=2, weights=uniform;, score=0.433 total time=   0.2s\n",
            "[CV 2/2] END algorithm=ball_tree, leaf_size=200, metric=minkowski, p=2, weights=uniform;, score=0.456 total time=   0.2s\n",
            "[CV 1/2] END algorithm=kd_tree, leaf_size=10, metric=minkowski, p=1, weights=distance;, score=0.537 total time=   0.2s\n",
            "[CV 2/2] END algorithm=kd_tree, leaf_size=10, metric=minkowski, p=1, weights=distance;, score=0.542 total time=   0.3s\n",
            "[CV 1/2] END algorithm=kd_tree, leaf_size=10, metric=minkowski, p=1, weights=uniform;, score=0.491 total time=   0.3s\n",
            "[CV 2/2] END algorithm=kd_tree, leaf_size=10, metric=minkowski, p=1, weights=uniform;, score=0.507 total time=   0.3s\n",
            "[CV 1/2] END algorithm=kd_tree, leaf_size=10, metric=minkowski, p=2, weights=distance;, score=0.504 total time=   0.2s\n",
            "[CV 2/2] END algorithm=kd_tree, leaf_size=10, metric=minkowski, p=2, weights=distance;, score=0.473 total time=   0.2s\n",
            "[CV 1/2] END algorithm=kd_tree, leaf_size=10, metric=minkowski, p=2, weights=uniform;, score=0.433 total time=   0.2s\n",
            "[CV 2/2] END algorithm=kd_tree, leaf_size=10, metric=minkowski, p=2, weights=uniform;, score=0.456 total time=   0.2s\n",
            "[CV 1/2] END algorithm=kd_tree, leaf_size=30, metric=minkowski, p=1, weights=distance;, score=0.537 total time=   0.2s\n",
            "[CV 2/2] END algorithm=kd_tree, leaf_size=30, metric=minkowski, p=1, weights=distance;, score=0.542 total time=   0.2s\n",
            "[CV 1/2] END algorithm=kd_tree, leaf_size=30, metric=minkowski, p=1, weights=uniform;, score=0.491 total time=   0.2s\n",
            "[CV 2/2] END algorithm=kd_tree, leaf_size=30, metric=minkowski, p=1, weights=uniform;, score=0.507 total time=   0.2s\n",
            "[CV 1/2] END algorithm=kd_tree, leaf_size=30, metric=minkowski, p=2, weights=distance;, score=0.504 total time=   0.2s\n",
            "[CV 2/2] END algorithm=kd_tree, leaf_size=30, metric=minkowski, p=2, weights=distance;, score=0.473 total time=   0.2s\n",
            "[CV 1/2] END algorithm=kd_tree, leaf_size=30, metric=minkowski, p=2, weights=uniform;, score=0.433 total time=   0.3s\n",
            "[CV 2/2] END algorithm=kd_tree, leaf_size=30, metric=minkowski, p=2, weights=uniform;, score=0.456 total time=   0.3s\n",
            "[CV 1/2] END algorithm=kd_tree, leaf_size=100, metric=minkowski, p=1, weights=distance;, score=0.537 total time=   0.3s\n",
            "[CV 2/2] END algorithm=kd_tree, leaf_size=100, metric=minkowski, p=1, weights=distance;, score=0.542 total time=   0.3s\n",
            "[CV 1/2] END algorithm=kd_tree, leaf_size=100, metric=minkowski, p=1, weights=uniform;, score=0.491 total time=   0.4s\n",
            "[CV 2/2] END algorithm=kd_tree, leaf_size=100, metric=minkowski, p=1, weights=uniform;, score=0.507 total time=   0.4s\n",
            "[CV 1/2] END algorithm=kd_tree, leaf_size=100, metric=minkowski, p=2, weights=distance;, score=0.504 total time=   0.3s\n",
            "[CV 2/2] END algorithm=kd_tree, leaf_size=100, metric=minkowski, p=2, weights=distance;, score=0.473 total time=   0.3s\n",
            "[CV 1/2] END algorithm=kd_tree, leaf_size=100, metric=minkowski, p=2, weights=uniform;, score=0.433 total time=   0.3s\n",
            "[CV 2/2] END algorithm=kd_tree, leaf_size=100, metric=minkowski, p=2, weights=uniform;, score=0.456 total time=   0.2s\n",
            "[CV 1/2] END algorithm=kd_tree, leaf_size=200, metric=minkowski, p=1, weights=distance;, score=0.537 total time=   0.2s\n",
            "[CV 2/2] END algorithm=kd_tree, leaf_size=200, metric=minkowski, p=1, weights=distance;, score=0.542 total time=   0.2s\n",
            "[CV 1/2] END algorithm=kd_tree, leaf_size=200, metric=minkowski, p=1, weights=uniform;, score=0.491 total time=   0.3s\n",
            "[CV 2/2] END algorithm=kd_tree, leaf_size=200, metric=minkowski, p=1, weights=uniform;, score=0.507 total time=   0.3s\n",
            "[CV 1/2] END algorithm=kd_tree, leaf_size=200, metric=minkowski, p=2, weights=distance;, score=0.504 total time=   0.2s\n",
            "[CV 2/2] END algorithm=kd_tree, leaf_size=200, metric=minkowski, p=2, weights=distance;, score=0.473 total time=   0.2s\n",
            "[CV 1/2] END algorithm=kd_tree, leaf_size=200, metric=minkowski, p=2, weights=uniform;, score=0.433 total time=   0.2s\n",
            "[CV 2/2] END algorithm=kd_tree, leaf_size=200, metric=minkowski, p=2, weights=uniform;, score=0.456 total time=   0.2s\n",
            "[CV 1/2] END algorithm=brute, leaf_size=10, metric=minkowski, p=1, weights=distance;, score=0.537 total time=   0.2s\n",
            "[CV 2/2] END algorithm=brute, leaf_size=10, metric=minkowski, p=1, weights=distance;, score=0.542 total time=   0.1s\n",
            "[CV 1/2] END algorithm=brute, leaf_size=10, metric=minkowski, p=1, weights=uniform;, score=0.491 total time=   0.1s\n",
            "[CV 2/2] END algorithm=brute, leaf_size=10, metric=minkowski, p=1, weights=uniform;, score=0.507 total time=   0.1s\n",
            "[CV 1/2] END algorithm=brute, leaf_size=10, metric=minkowski, p=2, weights=distance;, score=0.504 total time=   0.0s\n",
            "[CV 2/2] END algorithm=brute, leaf_size=10, metric=minkowski, p=2, weights=distance;, score=0.473 total time=   0.0s\n",
            "[CV 1/2] END algorithm=brute, leaf_size=10, metric=minkowski, p=2, weights=uniform;, score=0.433 total time=   0.0s\n",
            "[CV 2/2] END algorithm=brute, leaf_size=10, metric=minkowski, p=2, weights=uniform;, score=0.456 total time=   0.0s\n",
            "[CV 1/2] END algorithm=brute, leaf_size=30, metric=minkowski, p=1, weights=distance;, score=0.537 total time=   0.1s\n",
            "[CV 2/2] END algorithm=brute, leaf_size=30, metric=minkowski, p=1, weights=distance;, score=0.542 total time=   0.1s\n",
            "[CV 1/2] END algorithm=brute, leaf_size=30, metric=minkowski, p=1, weights=uniform;, score=0.491 total time=   0.1s\n",
            "[CV 2/2] END algorithm=brute, leaf_size=30, metric=minkowski, p=1, weights=uniform;, score=0.507 total time=   0.1s\n",
            "[CV 1/2] END algorithm=brute, leaf_size=30, metric=minkowski, p=2, weights=distance;, score=0.504 total time=   0.0s\n",
            "[CV 2/2] END algorithm=brute, leaf_size=30, metric=minkowski, p=2, weights=distance;, score=0.473 total time=   0.0s\n",
            "[CV 1/2] END algorithm=brute, leaf_size=30, metric=minkowski, p=2, weights=uniform;, score=0.433 total time=   0.0s\n",
            "[CV 2/2] END algorithm=brute, leaf_size=30, metric=minkowski, p=2, weights=uniform;, score=0.456 total time=   0.0s\n",
            "[CV 1/2] END algorithm=brute, leaf_size=100, metric=minkowski, p=1, weights=distance;, score=0.537 total time=   0.1s\n",
            "[CV 2/2] END algorithm=brute, leaf_size=100, metric=minkowski, p=1, weights=distance;, score=0.542 total time=   0.1s\n",
            "[CV 1/2] END algorithm=brute, leaf_size=100, metric=minkowski, p=1, weights=uniform;, score=0.491 total time=   0.1s\n",
            "[CV 2/2] END algorithm=brute, leaf_size=100, metric=minkowski, p=1, weights=uniform;, score=0.507 total time=   0.1s\n",
            "[CV 1/2] END algorithm=brute, leaf_size=100, metric=minkowski, p=2, weights=distance;, score=0.504 total time=   0.0s\n",
            "[CV 2/2] END algorithm=brute, leaf_size=100, metric=minkowski, p=2, weights=distance;, score=0.473 total time=   0.0s\n",
            "[CV 1/2] END algorithm=brute, leaf_size=100, metric=minkowski, p=2, weights=uniform;, score=0.433 total time=   0.0s\n",
            "[CV 2/2] END algorithm=brute, leaf_size=100, metric=minkowski, p=2, weights=uniform;, score=0.456 total time=   0.0s\n",
            "[CV 1/2] END algorithm=brute, leaf_size=200, metric=minkowski, p=1, weights=distance;, score=0.537 total time=   0.1s\n",
            "[CV 2/2] END algorithm=brute, leaf_size=200, metric=minkowski, p=1, weights=distance;, score=0.542 total time=   0.1s\n",
            "[CV 1/2] END algorithm=brute, leaf_size=200, metric=minkowski, p=1, weights=uniform;, score=0.491 total time=   0.1s\n",
            "[CV 2/2] END algorithm=brute, leaf_size=200, metric=minkowski, p=1, weights=uniform;, score=0.507 total time=   0.1s\n",
            "[CV 1/2] END algorithm=brute, leaf_size=200, metric=minkowski, p=2, weights=distance;, score=0.504 total time=   0.0s\n",
            "[CV 2/2] END algorithm=brute, leaf_size=200, metric=minkowski, p=2, weights=distance;, score=0.473 total time=   0.0s\n",
            "[CV 1/2] END algorithm=brute, leaf_size=200, metric=minkowski, p=2, weights=uniform;, score=0.433 total time=   0.0s\n",
            "[CV 2/2] END algorithm=brute, leaf_size=200, metric=minkowski, p=2, weights=uniform;, score=0.456 total time=   0.0s\n",
            "best combo: \n",
            " {'algorithm': 'auto', 'leaf_size': 10, 'metric': 'minkowski', 'p': 1, 'weights': 'distance'}\n"
          ]
        }
      ]
    },
    {
      "cell_type": "markdown",
      "source": [
        "From the short grid search above, the best combination was found to be"
      ],
      "metadata": {
        "id": "5f-Q-2BXJVJx"
      }
    },
    {
      "cell_type": "code",
      "source": [
        "{'algorithm': 'auto', 'leaf_size': 10, 'metric': 'minkowski', 'p': 1, 'weights': 'distance'}"
      ],
      "metadata": {
        "id": "bqwrTDp8JaF-"
      },
      "execution_count": null,
      "outputs": []
    },
    {
      "cell_type": "markdown",
      "source": [
        "I'm gonna go ahead and try these parameters\n"
      ],
      "metadata": {
        "id": "ABacdqtNJa6C"
      }
    },
    {
      "cell_type": "code",
      "source": [
        "model = KNeighborsClassifier(\n",
        "    algorithm = 'auto',\n",
        "    leaf_size = 10,\n",
        "    metric = 'minkowski',\n",
        "    p = 1,\n",
        "    weights = 'distance'\n",
        ")\n",
        "\n",
        "model.fit(X_train, y_train)\n",
        "\n",
        "print(f'Optimized kNN Model\\'s accuracy on training set is {100*model.score(X_train, y_train):.2f}%')\n",
        "print(f'Optimized kNN Model\\'s accuracy on test set is {100*model.score(X_test, y_test):.2f}%')"
      ],
      "metadata": {
        "colab": {
          "base_uri": "https://localhost:8080/"
        },
        "id": "XVWjoaLnJegh",
        "outputId": "8a69b907-8cb7-4d6e-b6a1-bf4879e36274"
      },
      "execution_count": null,
      "outputs": [
        {
          "output_type": "stream",
          "name": "stdout",
          "text": [
            "Optimized kNN Model's accuracy on training set is 100.00%\n",
            "Optimized kNN Model's accuracy on test set is 69.87%\n"
          ]
        }
      ]
    },
    {
      "cell_type": "markdown",
      "source": [
        "Like the Random forest classifier, using the optimized parameters, the kNN model jumped up around 8%~ to 69.87% which is pretty close to the accuracy of the random forest classifier.\n",
        "\n",
        "I also found that changing the leafsize does not change the accuracy of the model which is sort of confusing but I don't understand the other parametrs enough to know why"
      ],
      "metadata": {
        "id": "H0JFvRYAKRf7"
      }
    },
    {
      "cell_type": "markdown",
      "source": [
        "# SVC RBF"
      ],
      "metadata": {
        "id": "MyyDbQLeK4dP"
      }
    },
    {
      "cell_type": "markdown",
      "source": [
        "The last model I'll be testing and trying to optimize will be SVC RBF\n",
        "\n",
        "Like the two previous models, I'll first test how the model performs with the default set, scaled, and minmax set."
      ],
      "metadata": {
        "id": "nAtXIakxLHEv"
      }
    },
    {
      "cell_type": "code",
      "source": [
        "#default model with seed = 10101\n",
        "model = SVC(\n",
        "    kernel = 'rbf',\n",
        "    random_state = 10101\n",
        ")\n",
        "\n",
        "model.fit(X_train, y_train)\n",
        "print(f'Default Random Forest Model\\'s accuracy on training set is {100*model.score(X_train, y_train):.2f}%')\n",
        "print(f'Default Random Forest Model\\'s accuracy on test set is {100*model.score(X_test, y_test):.2f}%\\n')\n",
        "model.fit(X_train_scaled, y_train)\n",
        "print(f'Default Random Forest Model\\'s accuracy on scaled training set is {100*model.score(X_train_scaled, y_train):.2f}%')\n",
        "print(f'Default Random Forest Model\\'s accuracy on scaled test set is {100*model.score(X_test_scaled, y_test):.2f}%\\n')\n",
        "model.fit(X_train_minmax, y_train)\n",
        "print(f'Default Random Forest Model\\'s accuracy on minmax training set is {100*model.score(X_train_minmax, y_train):.2f}%')\n",
        "print(f'Default Random Forest Model\\'s accuracy on minmaxtest set is {100*model.score(X_test_minmax, y_test):.2f}%\\n')\n"
      ],
      "metadata": {
        "colab": {
          "base_uri": "https://localhost:8080/"
        },
        "id": "3nehkrXMLXI9",
        "outputId": "f46199b2-8d89-4a83-b991-8980ba431e5a"
      },
      "execution_count": 16,
      "outputs": [
        {
          "output_type": "stream",
          "name": "stdout",
          "text": [
            "Default Random Forest Model's accuracy on training set is 38.72%\n",
            "Default Random Forest Model's accuracy on test set is 38.74%\n",
            "\n",
            "Default Random Forest Model's accuracy on scaled training set is 65.84%\n",
            "Default Random Forest Model's accuracy on scaled test set is 52.98%\n",
            "\n",
            "Default Random Forest Model's accuracy on minmax training set is 65.84%\n",
            "Default Random Forest Model's accuracy on minmaxtest set is 52.98%\n",
            "\n"
          ]
        }
      ]
    },
    {
      "cell_type": "markdown",
      "source": [
        "The default result is very similar to the KNeighbors model where the scaled/min-max had identical scores with the original dataset doing poorly (probably because scaling the data should theoretically be better for SVC).\n",
        "\n",
        "Next step is to optimize similar to the lab"
      ],
      "metadata": {
        "id": "mqFAyCMslgXv"
      }
    },
    {
      "cell_type": "markdown",
      "source": [
        "## Comparison Against RAVDESS Dataset"
      ],
      "metadata": {
        "id": "bM2APRjymE1-"
      }
    },
    {
      "cell_type": "markdown",
      "source": [
        "Lab optimized parameters"
      ],
      "metadata": {
        "id": "QYnAkeJHMcBf"
      }
    },
    {
      "cell_type": "code",
      "source": [
        "model = SVC(\n",
        "    C=10,  #higher the value tighter the margin\n",
        "    gamma='auto',\n",
        "    kernel='rbf',\n",
        "    random_state=10101\n",
        ")\n",
        "\n",
        "model.fit(X_train, y_train)\n",
        "\n",
        "print(f'SVC Model\\'s accuracy on training set is {100*model.score(X_train, y_train):.2f}%')\n",
        "print(f'SVC Model\\'s accuracy on test set is {100*model.score(X_test, y_test):.2f}%')"
      ],
      "metadata": {
        "colab": {
          "base_uri": "https://localhost:8080/"
        },
        "id": "d-3CILrVMc9K",
        "outputId": "dc3b99fd-6ec9-4254-b180-c83397a8b1b1"
      },
      "execution_count": 17,
      "outputs": [
        {
          "output_type": "stream",
          "name": "stdout",
          "text": [
            "SVC Model's accuracy on training set is 100.00%\n",
            "SVC Model's accuracy on test set is 49.01%\n"
          ]
        }
      ]
    },
    {
      "cell_type": "markdown",
      "source": [
        "Very unusual results, unlike the two previous models, this model actually performed worse than the RAVDESS dataset, and the default also performed better"
      ],
      "metadata": {
        "id": "8TSjuFC6UFE-"
      }
    },
    {
      "cell_type": "markdown",
      "source": [
        "## (EXTRA) Further Optimization"
      ],
      "metadata": {
        "id": "m26E1EkvsMsI"
      }
    },
    {
      "cell_type": "markdown",
      "source": [
        "Like the previous two models, I'm going to further optimize it using GridSearch"
      ],
      "metadata": {
        "id": "vKHX4HUTsPaw"
      }
    },
    {
      "cell_type": "code",
      "source": [
        "model = SVC(\n",
        ")\n",
        "\n",
        "default_params = {\n",
        "    'kernel': ['rbf'], #These first two will never change\n",
        "    'random_state': [10101],\n",
        "    'C' : [1, 5, 10],\n",
        "    'degree' : [2,3,4],\n",
        "    'gamma' : ['scale', 'auto'],\n",
        "    'shrinking': [True, False],\n",
        "    'class_weight': [dict, 'balanced', None]\n",
        "}\n",
        "\n",
        "grid = GridSearchCV(\n",
        "    model,\n",
        "    default_params,\n",
        "    cv = 2,\n",
        "    n_jobs = 1,\n",
        "    verbose = 3\n",
        ")\n",
        "\n",
        "with parallel_backend('multiprocessing'):\n",
        "    grid.fit(X_train, y_train)\n",
        "\n",
        "print(\"best combo: \\n\", grid.best_params_)"
      ],
      "metadata": {
        "colab": {
          "base_uri": "https://localhost:8080/"
        },
        "id": "i99jR2SFUGOL",
        "outputId": "125a7c18-66d4-48c0-f64d-32c55d3daf64"
      },
      "execution_count": 19,
      "outputs": [
        {
          "output_type": "stream",
          "name": "stdout",
          "text": [
            "Fitting 2 folds for each of 108 candidates, totalling 216 fits\n",
            "[CV 1/2] END C=1, class_weight=<class 'dict'>, degree=2, gamma=scale, kernel=rbf, random_state=10101, shrinking=True;, score=nan total time=   0.0s\n",
            "[CV 2/2] END C=1, class_weight=<class 'dict'>, degree=2, gamma=scale, kernel=rbf, random_state=10101, shrinking=True;, score=nan total time=   0.0s\n",
            "[CV 1/2] END C=1, class_weight=<class 'dict'>, degree=2, gamma=scale, kernel=rbf, random_state=10101, shrinking=False;, score=nan total time=   0.0s\n",
            "[CV 2/2] END C=1, class_weight=<class 'dict'>, degree=2, gamma=scale, kernel=rbf, random_state=10101, shrinking=False;, score=nan total time=   0.0s\n",
            "[CV 1/2] END C=1, class_weight=<class 'dict'>, degree=2, gamma=auto, kernel=rbf, random_state=10101, shrinking=True;, score=nan total time=   0.0s\n",
            "[CV 2/2] END C=1, class_weight=<class 'dict'>, degree=2, gamma=auto, kernel=rbf, random_state=10101, shrinking=True;, score=nan total time=   0.0s\n",
            "[CV 1/2] END C=1, class_weight=<class 'dict'>, degree=2, gamma=auto, kernel=rbf, random_state=10101, shrinking=False;, score=nan total time=   0.0s\n",
            "[CV 2/2] END C=1, class_weight=<class 'dict'>, degree=2, gamma=auto, kernel=rbf, random_state=10101, shrinking=False;, score=nan total time=   0.0s\n",
            "[CV 1/2] END C=1, class_weight=<class 'dict'>, degree=3, gamma=scale, kernel=rbf, random_state=10101, shrinking=True;, score=nan total time=   0.0s\n",
            "[CV 2/2] END C=1, class_weight=<class 'dict'>, degree=3, gamma=scale, kernel=rbf, random_state=10101, shrinking=True;, score=nan total time=   0.0s\n",
            "[CV 1/2] END C=1, class_weight=<class 'dict'>, degree=3, gamma=scale, kernel=rbf, random_state=10101, shrinking=False;, score=nan total time=   0.0s\n",
            "[CV 2/2] END C=1, class_weight=<class 'dict'>, degree=3, gamma=scale, kernel=rbf, random_state=10101, shrinking=False;, score=nan total time=   0.0s\n",
            "[CV 1/2] END C=1, class_weight=<class 'dict'>, degree=3, gamma=auto, kernel=rbf, random_state=10101, shrinking=True;, score=nan total time=   0.0s\n",
            "[CV 2/2] END C=1, class_weight=<class 'dict'>, degree=3, gamma=auto, kernel=rbf, random_state=10101, shrinking=True;, score=nan total time=   0.0s\n",
            "[CV 1/2] END C=1, class_weight=<class 'dict'>, degree=3, gamma=auto, kernel=rbf, random_state=10101, shrinking=False;, score=nan total time=   0.0s\n",
            "[CV 2/2] END C=1, class_weight=<class 'dict'>, degree=3, gamma=auto, kernel=rbf, random_state=10101, shrinking=False;, score=nan total time=   0.0s\n",
            "[CV 1/2] END C=1, class_weight=<class 'dict'>, degree=4, gamma=scale, kernel=rbf, random_state=10101, shrinking=True;, score=nan total time=   0.0s\n",
            "[CV 2/2] END C=1, class_weight=<class 'dict'>, degree=4, gamma=scale, kernel=rbf, random_state=10101, shrinking=True;, score=nan total time=   0.0s\n",
            "[CV 1/2] END C=1, class_weight=<class 'dict'>, degree=4, gamma=scale, kernel=rbf, random_state=10101, shrinking=False;, score=nan total time=   0.0s\n",
            "[CV 2/2] END C=1, class_weight=<class 'dict'>, degree=4, gamma=scale, kernel=rbf, random_state=10101, shrinking=False;, score=nan total time=   0.0s\n",
            "[CV 1/2] END C=1, class_weight=<class 'dict'>, degree=4, gamma=auto, kernel=rbf, random_state=10101, shrinking=True;, score=nan total time=   0.0s\n",
            "[CV 2/2] END C=1, class_weight=<class 'dict'>, degree=4, gamma=auto, kernel=rbf, random_state=10101, shrinking=True;, score=nan total time=   0.0s\n",
            "[CV 1/2] END C=1, class_weight=<class 'dict'>, degree=4, gamma=auto, kernel=rbf, random_state=10101, shrinking=False;, score=nan total time=   0.0s\n",
            "[CV 2/2] END C=1, class_weight=<class 'dict'>, degree=4, gamma=auto, kernel=rbf, random_state=10101, shrinking=False;, score=nan total time=   0.0s\n",
            "[CV 1/2] END C=1, class_weight=balanced, degree=2, gamma=scale, kernel=rbf, random_state=10101, shrinking=True;, score=0.406 total time=   0.0s\n",
            "[CV 2/2] END C=1, class_weight=balanced, degree=2, gamma=scale, kernel=rbf, random_state=10101, shrinking=True;, score=0.348 total time=   0.0s\n",
            "[CV 1/2] END C=1, class_weight=balanced, degree=2, gamma=scale, kernel=rbf, random_state=10101, shrinking=False;, score=0.406 total time=   0.0s\n",
            "[CV 2/2] END C=1, class_weight=balanced, degree=2, gamma=scale, kernel=rbf, random_state=10101, shrinking=False;, score=0.348 total time=   0.0s\n",
            "[CV 1/2] END C=1, class_weight=balanced, degree=2, gamma=auto, kernel=rbf, random_state=10101, shrinking=True;, score=0.357 total time=   0.0s\n",
            "[CV 2/2] END C=1, class_weight=balanced, degree=2, gamma=auto, kernel=rbf, random_state=10101, shrinking=True;, score=0.365 total time=   0.0s\n",
            "[CV 1/2] END C=1, class_weight=balanced, degree=2, gamma=auto, kernel=rbf, random_state=10101, shrinking=False;, score=0.357 total time=   0.0s\n",
            "[CV 2/2] END C=1, class_weight=balanced, degree=2, gamma=auto, kernel=rbf, random_state=10101, shrinking=False;, score=0.365 total time=   0.0s\n",
            "[CV 1/2] END C=1, class_weight=balanced, degree=3, gamma=scale, kernel=rbf, random_state=10101, shrinking=True;, score=0.406 total time=   0.0s\n",
            "[CV 2/2] END C=1, class_weight=balanced, degree=3, gamma=scale, kernel=rbf, random_state=10101, shrinking=True;, score=0.348 total time=   0.0s\n",
            "[CV 1/2] END C=1, class_weight=balanced, degree=3, gamma=scale, kernel=rbf, random_state=10101, shrinking=False;, score=0.406 total time=   0.0s\n",
            "[CV 2/2] END C=1, class_weight=balanced, degree=3, gamma=scale, kernel=rbf, random_state=10101, shrinking=False;, score=0.348 total time=   0.0s\n",
            "[CV 1/2] END C=1, class_weight=balanced, degree=3, gamma=auto, kernel=rbf, random_state=10101, shrinking=True;, score=0.357 total time=   0.0s\n",
            "[CV 2/2] END C=1, class_weight=balanced, degree=3, gamma=auto, kernel=rbf, random_state=10101, shrinking=True;, score=0.365 total time=   0.0s\n",
            "[CV 1/2] END C=1, class_weight=balanced, degree=3, gamma=auto, kernel=rbf, random_state=10101, shrinking=False;, score=0.357 total time=   0.0s\n",
            "[CV 2/2] END C=1, class_weight=balanced, degree=3, gamma=auto, kernel=rbf, random_state=10101, shrinking=False;, score=0.365 total time=   0.0s\n",
            "[CV 1/2] END C=1, class_weight=balanced, degree=4, gamma=scale, kernel=rbf, random_state=10101, shrinking=True;, score=0.406 total time=   0.0s\n",
            "[CV 2/2] END C=1, class_weight=balanced, degree=4, gamma=scale, kernel=rbf, random_state=10101, shrinking=True;, score=0.348 total time=   0.0s\n",
            "[CV 1/2] END C=1, class_weight=balanced, degree=4, gamma=scale, kernel=rbf, random_state=10101, shrinking=False;, score=0.406 total time=   0.0s\n",
            "[CV 2/2] END C=1, class_weight=balanced, degree=4, gamma=scale, kernel=rbf, random_state=10101, shrinking=False;, score=0.348 total time=   0.0s\n",
            "[CV 1/2] END C=1, class_weight=balanced, degree=4, gamma=auto, kernel=rbf, random_state=10101, shrinking=True;, score=0.357 total time=   0.0s\n",
            "[CV 2/2] END C=1, class_weight=balanced, degree=4, gamma=auto, kernel=rbf, random_state=10101, shrinking=True;, score=0.365 total time=   0.0s\n",
            "[CV 1/2] END C=1, class_weight=balanced, degree=4, gamma=auto, kernel=rbf, random_state=10101, shrinking=False;, score=0.357 total time=   0.0s\n",
            "[CV 2/2] END C=1, class_weight=balanced, degree=4, gamma=auto, kernel=rbf, random_state=10101, shrinking=False;, score=0.365 total time=   0.0s\n",
            "[CV 1/2] END C=1, class_weight=None, degree=2, gamma=scale, kernel=rbf, random_state=10101, shrinking=True;, score=0.376 total time=   0.0s\n",
            "[CV 2/2] END C=1, class_weight=None, degree=2, gamma=scale, kernel=rbf, random_state=10101, shrinking=True;, score=0.328 total time=   0.0s\n",
            "[CV 1/2] END C=1, class_weight=None, degree=2, gamma=scale, kernel=rbf, random_state=10101, shrinking=False;, score=0.376 total time=   0.0s\n",
            "[CV 2/2] END C=1, class_weight=None, degree=2, gamma=scale, kernel=rbf, random_state=10101, shrinking=False;, score=0.328 total time=   0.0s\n",
            "[CV 1/2] END C=1, class_weight=None, degree=2, gamma=auto, kernel=rbf, random_state=10101, shrinking=True;, score=0.368 total time=   0.0s\n",
            "[CV 2/2] END C=1, class_weight=None, degree=2, gamma=auto, kernel=rbf, random_state=10101, shrinking=True;, score=0.332 total time=   0.0s\n",
            "[CV 1/2] END C=1, class_weight=None, degree=2, gamma=auto, kernel=rbf, random_state=10101, shrinking=False;, score=0.368 total time=   0.0s\n",
            "[CV 2/2] END C=1, class_weight=None, degree=2, gamma=auto, kernel=rbf, random_state=10101, shrinking=False;, score=0.332 total time=   0.0s\n",
            "[CV 1/2] END C=1, class_weight=None, degree=3, gamma=scale, kernel=rbf, random_state=10101, shrinking=True;, score=0.376 total time=   0.0s\n",
            "[CV 2/2] END C=1, class_weight=None, degree=3, gamma=scale, kernel=rbf, random_state=10101, shrinking=True;, score=0.328 total time=   0.0s\n",
            "[CV 1/2] END C=1, class_weight=None, degree=3, gamma=scale, kernel=rbf, random_state=10101, shrinking=False;, score=0.376 total time=   0.0s\n",
            "[CV 2/2] END C=1, class_weight=None, degree=3, gamma=scale, kernel=rbf, random_state=10101, shrinking=False;, score=0.328 total time=   0.0s\n",
            "[CV 1/2] END C=1, class_weight=None, degree=3, gamma=auto, kernel=rbf, random_state=10101, shrinking=True;, score=0.368 total time=   0.0s\n",
            "[CV 2/2] END C=1, class_weight=None, degree=3, gamma=auto, kernel=rbf, random_state=10101, shrinking=True;, score=0.332 total time=   0.0s\n",
            "[CV 1/2] END C=1, class_weight=None, degree=3, gamma=auto, kernel=rbf, random_state=10101, shrinking=False;, score=0.368 total time=   0.0s\n",
            "[CV 2/2] END C=1, class_weight=None, degree=3, gamma=auto, kernel=rbf, random_state=10101, shrinking=False;, score=0.332 total time=   0.0s\n",
            "[CV 1/2] END C=1, class_weight=None, degree=4, gamma=scale, kernel=rbf, random_state=10101, shrinking=True;, score=0.376 total time=   0.0s\n",
            "[CV 2/2] END C=1, class_weight=None, degree=4, gamma=scale, kernel=rbf, random_state=10101, shrinking=True;, score=0.328 total time=   0.0s\n",
            "[CV 1/2] END C=1, class_weight=None, degree=4, gamma=scale, kernel=rbf, random_state=10101, shrinking=False;, score=0.376 total time=   0.0s\n",
            "[CV 2/2] END C=1, class_weight=None, degree=4, gamma=scale, kernel=rbf, random_state=10101, shrinking=False;, score=0.328 total time=   0.0s\n",
            "[CV 1/2] END C=1, class_weight=None, degree=4, gamma=auto, kernel=rbf, random_state=10101, shrinking=True;, score=0.368 total time=   0.0s\n",
            "[CV 2/2] END C=1, class_weight=None, degree=4, gamma=auto, kernel=rbf, random_state=10101, shrinking=True;, score=0.332 total time=   0.0s\n",
            "[CV 1/2] END C=1, class_weight=None, degree=4, gamma=auto, kernel=rbf, random_state=10101, shrinking=False;, score=0.368 total time=   0.0s\n",
            "[CV 2/2] END C=1, class_weight=None, degree=4, gamma=auto, kernel=rbf, random_state=10101, shrinking=False;, score=0.332 total time=   0.0s\n",
            "[CV 1/2] END C=5, class_weight=<class 'dict'>, degree=2, gamma=scale, kernel=rbf, random_state=10101, shrinking=True;, score=nan total time=   0.0s\n",
            "[CV 2/2] END C=5, class_weight=<class 'dict'>, degree=2, gamma=scale, kernel=rbf, random_state=10101, shrinking=True;, score=nan total time=   0.0s\n",
            "[CV 1/2] END C=5, class_weight=<class 'dict'>, degree=2, gamma=scale, kernel=rbf, random_state=10101, shrinking=False;, score=nan total time=   0.0s\n",
            "[CV 2/2] END C=5, class_weight=<class 'dict'>, degree=2, gamma=scale, kernel=rbf, random_state=10101, shrinking=False;, score=nan total time=   0.0s\n",
            "[CV 1/2] END C=5, class_weight=<class 'dict'>, degree=2, gamma=auto, kernel=rbf, random_state=10101, shrinking=True;, score=nan total time=   0.0s\n",
            "[CV 2/2] END C=5, class_weight=<class 'dict'>, degree=2, gamma=auto, kernel=rbf, random_state=10101, shrinking=True;, score=nan total time=   0.0s\n",
            "[CV 1/2] END C=5, class_weight=<class 'dict'>, degree=2, gamma=auto, kernel=rbf, random_state=10101, shrinking=False;, score=nan total time=   0.0s\n",
            "[CV 2/2] END C=5, class_weight=<class 'dict'>, degree=2, gamma=auto, kernel=rbf, random_state=10101, shrinking=False;, score=nan total time=   0.0s\n",
            "[CV 1/2] END C=5, class_weight=<class 'dict'>, degree=3, gamma=scale, kernel=rbf, random_state=10101, shrinking=True;, score=nan total time=   0.0s\n",
            "[CV 2/2] END C=5, class_weight=<class 'dict'>, degree=3, gamma=scale, kernel=rbf, random_state=10101, shrinking=True;, score=nan total time=   0.0s\n",
            "[CV 1/2] END C=5, class_weight=<class 'dict'>, degree=3, gamma=scale, kernel=rbf, random_state=10101, shrinking=False;, score=nan total time=   0.0s\n",
            "[CV 2/2] END C=5, class_weight=<class 'dict'>, degree=3, gamma=scale, kernel=rbf, random_state=10101, shrinking=False;, score=nan total time=   0.0s\n",
            "[CV 1/2] END C=5, class_weight=<class 'dict'>, degree=3, gamma=auto, kernel=rbf, random_state=10101, shrinking=True;, score=nan total time=   0.0s\n",
            "[CV 2/2] END C=5, class_weight=<class 'dict'>, degree=3, gamma=auto, kernel=rbf, random_state=10101, shrinking=True;, score=nan total time=   0.0s\n",
            "[CV 1/2] END C=5, class_weight=<class 'dict'>, degree=3, gamma=auto, kernel=rbf, random_state=10101, shrinking=False;, score=nan total time=   0.0s\n",
            "[CV 2/2] END C=5, class_weight=<class 'dict'>, degree=3, gamma=auto, kernel=rbf, random_state=10101, shrinking=False;, score=nan total time=   0.0s\n",
            "[CV 1/2] END C=5, class_weight=<class 'dict'>, degree=4, gamma=scale, kernel=rbf, random_state=10101, shrinking=True;, score=nan total time=   0.0s\n",
            "[CV 2/2] END C=5, class_weight=<class 'dict'>, degree=4, gamma=scale, kernel=rbf, random_state=10101, shrinking=True;, score=nan total time=   0.0s\n",
            "[CV 1/2] END C=5, class_weight=<class 'dict'>, degree=4, gamma=scale, kernel=rbf, random_state=10101, shrinking=False;, score=nan total time=   0.0s\n",
            "[CV 2/2] END C=5, class_weight=<class 'dict'>, degree=4, gamma=scale, kernel=rbf, random_state=10101, shrinking=False;, score=nan total time=   0.0s\n",
            "[CV 1/2] END C=5, class_weight=<class 'dict'>, degree=4, gamma=auto, kernel=rbf, random_state=10101, shrinking=True;, score=nan total time=   0.0s\n",
            "[CV 2/2] END C=5, class_weight=<class 'dict'>, degree=4, gamma=auto, kernel=rbf, random_state=10101, shrinking=True;, score=nan total time=   0.0s\n",
            "[CV 1/2] END C=5, class_weight=<class 'dict'>, degree=4, gamma=auto, kernel=rbf, random_state=10101, shrinking=False;, score=nan total time=   0.0s\n",
            "[CV 2/2] END C=5, class_weight=<class 'dict'>, degree=4, gamma=auto, kernel=rbf, random_state=10101, shrinking=False;, score=nan total time=   0.0s\n",
            "[CV 1/2] END C=5, class_weight=balanced, degree=2, gamma=scale, kernel=rbf, random_state=10101, shrinking=True;, score=0.425 total time=   0.0s\n",
            "[CV 2/2] END C=5, class_weight=balanced, degree=2, gamma=scale, kernel=rbf, random_state=10101, shrinking=True;, score=0.375 total time=   0.0s\n",
            "[CV 1/2] END C=5, class_weight=balanced, degree=2, gamma=scale, kernel=rbf, random_state=10101, shrinking=False;, score=0.425 total time=   0.0s\n",
            "[CV 2/2] END C=5, class_weight=balanced, degree=2, gamma=scale, kernel=rbf, random_state=10101, shrinking=False;, score=0.375 total time=   0.0s\n",
            "[CV 1/2] END C=5, class_weight=balanced, degree=2, gamma=auto, kernel=rbf, random_state=10101, shrinking=True;, score=0.405 total time=   0.0s\n",
            "[CV 2/2] END C=5, class_weight=balanced, degree=2, gamma=auto, kernel=rbf, random_state=10101, shrinking=True;, score=0.371 total time=   0.0s\n",
            "[CV 1/2] END C=5, class_weight=balanced, degree=2, gamma=auto, kernel=rbf, random_state=10101, shrinking=False;, score=0.405 total time=   0.0s\n",
            "[CV 2/2] END C=5, class_weight=balanced, degree=2, gamma=auto, kernel=rbf, random_state=10101, shrinking=False;, score=0.371 total time=   0.0s\n",
            "[CV 1/2] END C=5, class_weight=balanced, degree=3, gamma=scale, kernel=rbf, random_state=10101, shrinking=True;, score=0.425 total time=   0.0s\n",
            "[CV 2/2] END C=5, class_weight=balanced, degree=3, gamma=scale, kernel=rbf, random_state=10101, shrinking=True;, score=0.375 total time=   0.0s\n",
            "[CV 1/2] END C=5, class_weight=balanced, degree=3, gamma=scale, kernel=rbf, random_state=10101, shrinking=False;, score=0.425 total time=   0.0s\n",
            "[CV 2/2] END C=5, class_weight=balanced, degree=3, gamma=scale, kernel=rbf, random_state=10101, shrinking=False;, score=0.375 total time=   0.0s\n",
            "[CV 1/2] END C=5, class_weight=balanced, degree=3, gamma=auto, kernel=rbf, random_state=10101, shrinking=True;, score=0.405 total time=   0.0s\n",
            "[CV 2/2] END C=5, class_weight=balanced, degree=3, gamma=auto, kernel=rbf, random_state=10101, shrinking=True;, score=0.371 total time=   0.0s\n",
            "[CV 1/2] END C=5, class_weight=balanced, degree=3, gamma=auto, kernel=rbf, random_state=10101, shrinking=False;, score=0.405 total time=   0.0s\n",
            "[CV 2/2] END C=5, class_weight=balanced, degree=3, gamma=auto, kernel=rbf, random_state=10101, shrinking=False;, score=0.371 total time=   0.0s\n",
            "[CV 1/2] END C=5, class_weight=balanced, degree=4, gamma=scale, kernel=rbf, random_state=10101, shrinking=True;, score=0.425 total time=   0.0s\n",
            "[CV 2/2] END C=5, class_weight=balanced, degree=4, gamma=scale, kernel=rbf, random_state=10101, shrinking=True;, score=0.375 total time=   0.0s\n",
            "[CV 1/2] END C=5, class_weight=balanced, degree=4, gamma=scale, kernel=rbf, random_state=10101, shrinking=False;, score=0.425 total time=   0.0s\n",
            "[CV 2/2] END C=5, class_weight=balanced, degree=4, gamma=scale, kernel=rbf, random_state=10101, shrinking=False;, score=0.375 total time=   0.0s\n",
            "[CV 1/2] END C=5, class_weight=balanced, degree=4, gamma=auto, kernel=rbf, random_state=10101, shrinking=True;, score=0.405 total time=   0.0s\n",
            "[CV 2/2] END C=5, class_weight=balanced, degree=4, gamma=auto, kernel=rbf, random_state=10101, shrinking=True;, score=0.371 total time=   0.0s\n",
            "[CV 1/2] END C=5, class_weight=balanced, degree=4, gamma=auto, kernel=rbf, random_state=10101, shrinking=False;, score=0.405 total time=   0.0s\n",
            "[CV 2/2] END C=5, class_weight=balanced, degree=4, gamma=auto, kernel=rbf, random_state=10101, shrinking=False;, score=0.371 total time=   0.0s\n",
            "[CV 1/2] END C=5, class_weight=None, degree=2, gamma=scale, kernel=rbf, random_state=10101, shrinking=True;, score=0.410 total time=   0.0s\n",
            "[CV 2/2] END C=5, class_weight=None, degree=2, gamma=scale, kernel=rbf, random_state=10101, shrinking=True;, score=0.367 total time=   0.0s\n",
            "[CV 1/2] END C=5, class_weight=None, degree=2, gamma=scale, kernel=rbf, random_state=10101, shrinking=False;, score=0.410 total time=   0.0s\n",
            "[CV 2/2] END C=5, class_weight=None, degree=2, gamma=scale, kernel=rbf, random_state=10101, shrinking=False;, score=0.367 total time=   0.0s\n",
            "[CV 1/2] END C=5, class_weight=None, degree=2, gamma=auto, kernel=rbf, random_state=10101, shrinking=True;, score=0.405 total time=   0.0s\n",
            "[CV 2/2] END C=5, class_weight=None, degree=2, gamma=auto, kernel=rbf, random_state=10101, shrinking=True;, score=0.371 total time=   0.0s\n",
            "[CV 1/2] END C=5, class_weight=None, degree=2, gamma=auto, kernel=rbf, random_state=10101, shrinking=False;, score=0.405 total time=   0.0s\n",
            "[CV 2/2] END C=5, class_weight=None, degree=2, gamma=auto, kernel=rbf, random_state=10101, shrinking=False;, score=0.371 total time=   0.0s\n",
            "[CV 1/2] END C=5, class_weight=None, degree=3, gamma=scale, kernel=rbf, random_state=10101, shrinking=True;, score=0.410 total time=   0.0s\n",
            "[CV 2/2] END C=5, class_weight=None, degree=3, gamma=scale, kernel=rbf, random_state=10101, shrinking=True;, score=0.367 total time=   0.0s\n",
            "[CV 1/2] END C=5, class_weight=None, degree=3, gamma=scale, kernel=rbf, random_state=10101, shrinking=False;, score=0.410 total time=   0.0s\n",
            "[CV 2/2] END C=5, class_weight=None, degree=3, gamma=scale, kernel=rbf, random_state=10101, shrinking=False;, score=0.367 total time=   0.0s\n",
            "[CV 1/2] END C=5, class_weight=None, degree=3, gamma=auto, kernel=rbf, random_state=10101, shrinking=True;, score=0.405 total time=   0.0s\n",
            "[CV 2/2] END C=5, class_weight=None, degree=3, gamma=auto, kernel=rbf, random_state=10101, shrinking=True;, score=0.371 total time=   0.0s\n",
            "[CV 1/2] END C=5, class_weight=None, degree=3, gamma=auto, kernel=rbf, random_state=10101, shrinking=False;, score=0.405 total time=   0.0s\n",
            "[CV 2/2] END C=5, class_weight=None, degree=3, gamma=auto, kernel=rbf, random_state=10101, shrinking=False;, score=0.371 total time=   0.0s\n",
            "[CV 1/2] END C=5, class_weight=None, degree=4, gamma=scale, kernel=rbf, random_state=10101, shrinking=True;, score=0.410 total time=   0.0s\n",
            "[CV 2/2] END C=5, class_weight=None, degree=4, gamma=scale, kernel=rbf, random_state=10101, shrinking=True;, score=0.367 total time=   0.0s\n",
            "[CV 1/2] END C=5, class_weight=None, degree=4, gamma=scale, kernel=rbf, random_state=10101, shrinking=False;, score=0.410 total time=   0.0s\n",
            "[CV 2/2] END C=5, class_weight=None, degree=4, gamma=scale, kernel=rbf, random_state=10101, shrinking=False;, score=0.367 total time=   0.0s\n",
            "[CV 1/2] END C=5, class_weight=None, degree=4, gamma=auto, kernel=rbf, random_state=10101, shrinking=True;, score=0.405 total time=   0.0s\n",
            "[CV 2/2] END C=5, class_weight=None, degree=4, gamma=auto, kernel=rbf, random_state=10101, shrinking=True;, score=0.371 total time=   0.0s\n",
            "[CV 1/2] END C=5, class_weight=None, degree=4, gamma=auto, kernel=rbf, random_state=10101, shrinking=False;, score=0.405 total time=   0.0s\n",
            "[CV 2/2] END C=5, class_weight=None, degree=4, gamma=auto, kernel=rbf, random_state=10101, shrinking=False;, score=0.371 total time=   0.0s\n",
            "[CV 1/2] END C=10, class_weight=<class 'dict'>, degree=2, gamma=scale, kernel=rbf, random_state=10101, shrinking=True;, score=nan total time=   0.0s\n",
            "[CV 2/2] END C=10, class_weight=<class 'dict'>, degree=2, gamma=scale, kernel=rbf, random_state=10101, shrinking=True;, score=nan total time=   0.0s\n",
            "[CV 1/2] END C=10, class_weight=<class 'dict'>, degree=2, gamma=scale, kernel=rbf, random_state=10101, shrinking=False;, score=nan total time=   0.0s\n",
            "[CV 2/2] END C=10, class_weight=<class 'dict'>, degree=2, gamma=scale, kernel=rbf, random_state=10101, shrinking=False;, score=nan total time=   0.0s\n",
            "[CV 1/2] END C=10, class_weight=<class 'dict'>, degree=2, gamma=auto, kernel=rbf, random_state=10101, shrinking=True;, score=nan total time=   0.0s\n",
            "[CV 2/2] END C=10, class_weight=<class 'dict'>, degree=2, gamma=auto, kernel=rbf, random_state=10101, shrinking=True;, score=nan total time=   0.0s\n",
            "[CV 1/2] END C=10, class_weight=<class 'dict'>, degree=2, gamma=auto, kernel=rbf, random_state=10101, shrinking=False;, score=nan total time=   0.0s\n",
            "[CV 2/2] END C=10, class_weight=<class 'dict'>, degree=2, gamma=auto, kernel=rbf, random_state=10101, shrinking=False;, score=nan total time=   0.0s\n",
            "[CV 1/2] END C=10, class_weight=<class 'dict'>, degree=3, gamma=scale, kernel=rbf, random_state=10101, shrinking=True;, score=nan total time=   0.0s\n",
            "[CV 2/2] END C=10, class_weight=<class 'dict'>, degree=3, gamma=scale, kernel=rbf, random_state=10101, shrinking=True;, score=nan total time=   0.0s\n",
            "[CV 1/2] END C=10, class_weight=<class 'dict'>, degree=3, gamma=scale, kernel=rbf, random_state=10101, shrinking=False;, score=nan total time=   0.0s\n",
            "[CV 2/2] END C=10, class_weight=<class 'dict'>, degree=3, gamma=scale, kernel=rbf, random_state=10101, shrinking=False;, score=nan total time=   0.0s\n",
            "[CV 1/2] END C=10, class_weight=<class 'dict'>, degree=3, gamma=auto, kernel=rbf, random_state=10101, shrinking=True;, score=nan total time=   0.0s\n",
            "[CV 2/2] END C=10, class_weight=<class 'dict'>, degree=3, gamma=auto, kernel=rbf, random_state=10101, shrinking=True;, score=nan total time=   0.0s\n",
            "[CV 1/2] END C=10, class_weight=<class 'dict'>, degree=3, gamma=auto, kernel=rbf, random_state=10101, shrinking=False;, score=nan total time=   0.0s\n",
            "[CV 2/2] END C=10, class_weight=<class 'dict'>, degree=3, gamma=auto, kernel=rbf, random_state=10101, shrinking=False;, score=nan total time=   0.0s\n",
            "[CV 1/2] END C=10, class_weight=<class 'dict'>, degree=4, gamma=scale, kernel=rbf, random_state=10101, shrinking=True;, score=nan total time=   0.0s\n",
            "[CV 2/2] END C=10, class_weight=<class 'dict'>, degree=4, gamma=scale, kernel=rbf, random_state=10101, shrinking=True;, score=nan total time=   0.0s\n",
            "[CV 1/2] END C=10, class_weight=<class 'dict'>, degree=4, gamma=scale, kernel=rbf, random_state=10101, shrinking=False;, score=nan total time=   0.0s\n",
            "[CV 2/2] END C=10, class_weight=<class 'dict'>, degree=4, gamma=scale, kernel=rbf, random_state=10101, shrinking=False;, score=nan total time=   0.0s\n",
            "[CV 1/2] END C=10, class_weight=<class 'dict'>, degree=4, gamma=auto, kernel=rbf, random_state=10101, shrinking=True;, score=nan total time=   0.0s\n",
            "[CV 2/2] END C=10, class_weight=<class 'dict'>, degree=4, gamma=auto, kernel=rbf, random_state=10101, shrinking=True;, score=nan total time=   0.0s\n",
            "[CV 1/2] END C=10, class_weight=<class 'dict'>, degree=4, gamma=auto, kernel=rbf, random_state=10101, shrinking=False;, score=nan total time=   0.0s\n",
            "[CV 2/2] END C=10, class_weight=<class 'dict'>, degree=4, gamma=auto, kernel=rbf, random_state=10101, shrinking=False;, score=nan total time=   0.0s\n",
            "[CV 1/2] END C=10, class_weight=balanced, degree=2, gamma=scale, kernel=rbf, random_state=10101, shrinking=True;, score=0.434 total time=   0.0s\n",
            "[CV 2/2] END C=10, class_weight=balanced, degree=2, gamma=scale, kernel=rbf, random_state=10101, shrinking=True;, score=0.415 total time=   0.0s\n",
            "[CV 1/2] END C=10, class_weight=balanced, degree=2, gamma=scale, kernel=rbf, random_state=10101, shrinking=False;, score=0.434 total time=   0.0s\n",
            "[CV 2/2] END C=10, class_weight=balanced, degree=2, gamma=scale, kernel=rbf, random_state=10101, shrinking=False;, score=0.415 total time=   0.0s\n",
            "[CV 1/2] END C=10, class_weight=balanced, degree=2, gamma=auto, kernel=rbf, random_state=10101, shrinking=True;, score=0.405 total time=   0.0s\n",
            "[CV 2/2] END C=10, class_weight=balanced, degree=2, gamma=auto, kernel=rbf, random_state=10101, shrinking=True;, score=0.371 total time=   0.0s\n",
            "[CV 1/2] END C=10, class_weight=balanced, degree=2, gamma=auto, kernel=rbf, random_state=10101, shrinking=False;, score=0.405 total time=   0.0s\n",
            "[CV 2/2] END C=10, class_weight=balanced, degree=2, gamma=auto, kernel=rbf, random_state=10101, shrinking=False;, score=0.371 total time=   0.0s\n",
            "[CV 1/2] END C=10, class_weight=balanced, degree=3, gamma=scale, kernel=rbf, random_state=10101, shrinking=True;, score=0.434 total time=   0.0s\n",
            "[CV 2/2] END C=10, class_weight=balanced, degree=3, gamma=scale, kernel=rbf, random_state=10101, shrinking=True;, score=0.415 total time=   0.0s\n",
            "[CV 1/2] END C=10, class_weight=balanced, degree=3, gamma=scale, kernel=rbf, random_state=10101, shrinking=False;, score=0.434 total time=   0.0s\n",
            "[CV 2/2] END C=10, class_weight=balanced, degree=3, gamma=scale, kernel=rbf, random_state=10101, shrinking=False;, score=0.415 total time=   0.0s\n",
            "[CV 1/2] END C=10, class_weight=balanced, degree=3, gamma=auto, kernel=rbf, random_state=10101, shrinking=True;, score=0.405 total time=   0.0s\n",
            "[CV 2/2] END C=10, class_weight=balanced, degree=3, gamma=auto, kernel=rbf, random_state=10101, shrinking=True;, score=0.371 total time=   0.0s\n",
            "[CV 1/2] END C=10, class_weight=balanced, degree=3, gamma=auto, kernel=rbf, random_state=10101, shrinking=False;, score=0.405 total time=   0.0s\n",
            "[CV 2/2] END C=10, class_weight=balanced, degree=3, gamma=auto, kernel=rbf, random_state=10101, shrinking=False;, score=0.371 total time=   0.0s\n",
            "[CV 1/2] END C=10, class_weight=balanced, degree=4, gamma=scale, kernel=rbf, random_state=10101, shrinking=True;, score=0.434 total time=   0.0s\n",
            "[CV 2/2] END C=10, class_weight=balanced, degree=4, gamma=scale, kernel=rbf, random_state=10101, shrinking=True;, score=0.415 total time=   0.0s\n",
            "[CV 1/2] END C=10, class_weight=balanced, degree=4, gamma=scale, kernel=rbf, random_state=10101, shrinking=False;, score=0.434 total time=   0.0s\n",
            "[CV 2/2] END C=10, class_weight=balanced, degree=4, gamma=scale, kernel=rbf, random_state=10101, shrinking=False;, score=0.415 total time=   0.0s\n",
            "[CV 1/2] END C=10, class_weight=balanced, degree=4, gamma=auto, kernel=rbf, random_state=10101, shrinking=True;, score=0.405 total time=   0.0s\n",
            "[CV 2/2] END C=10, class_weight=balanced, degree=4, gamma=auto, kernel=rbf, random_state=10101, shrinking=True;, score=0.371 total time=   0.0s\n",
            "[CV 1/2] END C=10, class_weight=balanced, degree=4, gamma=auto, kernel=rbf, random_state=10101, shrinking=False;, score=0.405 total time=   0.0s\n",
            "[CV 2/2] END C=10, class_weight=balanced, degree=4, gamma=auto, kernel=rbf, random_state=10101, shrinking=False;, score=0.371 total time=   0.0s\n",
            "[CV 1/2] END C=10, class_weight=None, degree=2, gamma=scale, kernel=rbf, random_state=10101, shrinking=True;, score=0.420 total time=   0.0s\n",
            "[CV 2/2] END C=10, class_weight=None, degree=2, gamma=scale, kernel=rbf, random_state=10101, shrinking=True;, score=0.415 total time=   0.0s\n",
            "[CV 1/2] END C=10, class_weight=None, degree=2, gamma=scale, kernel=rbf, random_state=10101, shrinking=False;, score=0.420 total time=   0.0s\n",
            "[CV 2/2] END C=10, class_weight=None, degree=2, gamma=scale, kernel=rbf, random_state=10101, shrinking=False;, score=0.415 total time=   0.0s\n",
            "[CV 1/2] END C=10, class_weight=None, degree=2, gamma=auto, kernel=rbf, random_state=10101, shrinking=True;, score=0.405 total time=   0.0s\n",
            "[CV 2/2] END C=10, class_weight=None, degree=2, gamma=auto, kernel=rbf, random_state=10101, shrinking=True;, score=0.371 total time=   0.0s\n",
            "[CV 1/2] END C=10, class_weight=None, degree=2, gamma=auto, kernel=rbf, random_state=10101, shrinking=False;, score=0.405 total time=   0.0s\n",
            "[CV 2/2] END C=10, class_weight=None, degree=2, gamma=auto, kernel=rbf, random_state=10101, shrinking=False;, score=0.371 total time=   0.0s\n",
            "[CV 1/2] END C=10, class_weight=None, degree=3, gamma=scale, kernel=rbf, random_state=10101, shrinking=True;, score=0.420 total time=   0.0s\n",
            "[CV 2/2] END C=10, class_weight=None, degree=3, gamma=scale, kernel=rbf, random_state=10101, shrinking=True;, score=0.415 total time=   0.0s\n",
            "[CV 1/2] END C=10, class_weight=None, degree=3, gamma=scale, kernel=rbf, random_state=10101, shrinking=False;, score=0.420 total time=   0.0s\n",
            "[CV 2/2] END C=10, class_weight=None, degree=3, gamma=scale, kernel=rbf, random_state=10101, shrinking=False;, score=0.415 total time=   0.0s\n",
            "[CV 1/2] END C=10, class_weight=None, degree=3, gamma=auto, kernel=rbf, random_state=10101, shrinking=True;, score=0.405 total time=   0.0s\n",
            "[CV 2/2] END C=10, class_weight=None, degree=3, gamma=auto, kernel=rbf, random_state=10101, shrinking=True;, score=0.371 total time=   0.0s\n",
            "[CV 1/2] END C=10, class_weight=None, degree=3, gamma=auto, kernel=rbf, random_state=10101, shrinking=False;, score=0.405 total time=   0.0s\n",
            "[CV 2/2] END C=10, class_weight=None, degree=3, gamma=auto, kernel=rbf, random_state=10101, shrinking=False;, score=0.371 total time=   0.0s\n",
            "[CV 1/2] END C=10, class_weight=None, degree=4, gamma=scale, kernel=rbf, random_state=10101, shrinking=True;, score=0.420 total time=   0.0s\n",
            "[CV 2/2] END C=10, class_weight=None, degree=4, gamma=scale, kernel=rbf, random_state=10101, shrinking=True;, score=0.415 total time=   0.0s\n",
            "[CV 1/2] END C=10, class_weight=None, degree=4, gamma=scale, kernel=rbf, random_state=10101, shrinking=False;, score=0.420 total time=   0.0s\n",
            "[CV 2/2] END C=10, class_weight=None, degree=4, gamma=scale, kernel=rbf, random_state=10101, shrinking=False;, score=0.415 total time=   0.0s\n",
            "[CV 1/2] END C=10, class_weight=None, degree=4, gamma=auto, kernel=rbf, random_state=10101, shrinking=True;, score=0.405 total time=   0.0s\n",
            "[CV 2/2] END C=10, class_weight=None, degree=4, gamma=auto, kernel=rbf, random_state=10101, shrinking=True;, score=0.371 total time=   0.0s\n",
            "[CV 1/2] END C=10, class_weight=None, degree=4, gamma=auto, kernel=rbf, random_state=10101, shrinking=False;, score=0.405 total time=   0.0s\n",
            "[CV 2/2] END C=10, class_weight=None, degree=4, gamma=auto, kernel=rbf, random_state=10101, shrinking=False;, score=0.371 total time=   0.0s\n",
            "best combo: \n",
            " {'C': 10, 'class_weight': 'balanced', 'degree': 2, 'gamma': 'scale', 'kernel': 'rbf', 'random_state': 10101, 'shrinking': True}\n"
          ]
        }
      ]
    },
    {
      "cell_type": "markdown",
      "source": [
        "Best params"
      ],
      "metadata": {
        "id": "wWImqoEUsrlA"
      }
    },
    {
      "cell_type": "code",
      "source": [
        "{'C': 10, 'class_weight': 'balanced', 'degree': 2, 'gamma': 'scale', 'kernel': 'rbf', 'random_state': 10101, 'shrinking': True}"
      ],
      "metadata": {
        "id": "ICd5Kwc9Xgzb"
      },
      "execution_count": null,
      "outputs": []
    },
    {
      "cell_type": "code",
      "source": [
        "model = SVC(\n",
        "    C = 10,\n",
        "    class_weight = 'balanced',\n",
        "    degree = 2,\n",
        "    gamma = 'scale',\n",
        "    kernel = 'rbf',\n",
        "    random_state = 10101,\n",
        "    shrinking = True\n",
        ")\n",
        "\n",
        "\n",
        "model.fit(X_train, y_train)\n",
        "\n",
        "print(f'Optimized SVC Model\\'s accuracy on training set is {100*model.score(X_train, y_train):.2f}%')\n",
        "print(f'Optimized SVC Model\\'s accuracy on test set is {100*model.score(X_test, y_test):.2f}%')"
      ],
      "metadata": {
        "colab": {
          "base_uri": "https://localhost:8080/"
        },
        "id": "YyygrCh9XhzB",
        "outputId": "1940dc00-208c-4e90-9d01-8b431f82334b"
      },
      "execution_count": 20,
      "outputs": [
        {
          "output_type": "stream",
          "name": "stdout",
          "text": [
            "Optimized SVC Model's accuracy on training set is 52.24%\n",
            "Optimized SVC Model's accuracy on test set is 48.34%\n"
          ]
        }
      ]
    },
    {
      "cell_type": "markdown",
      "source": [
        "A 20% improvement over the original results of 38.72%/38.74%\n",
        "\n",
        "But like earlier, I think this might be an inherent weakness of SVC, my theory is that since SVC plots the points, large differences in the value creates a larger area that the model needs to analyze and group.\n",
        "\n",
        "By scaling the datapoints, the area that needs to be fitted is smaller which is why I think scaled datapoints perform better.\n",
        "\n",
        "I'm unsatisfied with the current percentages so I'm going to try using the scaled datasets with the best params"
      ],
      "metadata": {
        "id": "MhIXsNMds9dF"
      }
    },
    {
      "cell_type": "code",
      "source": [
        "model = SVC(\n",
        "    C = 10,\n",
        "    class_weight = 'balanced',\n",
        "    degree = 2,\n",
        "    gamma = 'scale',\n",
        "    kernel = 'rbf',\n",
        "    random_state = 10101,\n",
        "    shrinking = True\n",
        ")\n",
        "\n",
        "\n",
        "model.fit(X_train_scaled, y_train)\n",
        "\n",
        "print(f'[SCALED] Optimized SVC Model\\'s accuracy on training set is {100*model.score(X_train_scaled, y_train):.2f}%')\n",
        "print(f'[SCALED] Optimized SVC Model\\'s accuracy on test set is {100*model.score(X_test_scaled, y_test):.2f}%')\n",
        "\n",
        "print(f'[minmax] Optimized SVC Model\\'s accuracy on training set is {100*model.score(X_train_minmax, y_train):.2f}%')\n",
        "print(f'[minmax] Optimized SVC Model\\'s accuracy on test set is {100*model.score(X_test_minmax, y_test):.2f}%')"
      ],
      "metadata": {
        "colab": {
          "base_uri": "https://localhost:8080/"
        },
        "id": "Zb1CGzyctfoK",
        "outputId": "8f79fc3e-d380-4a8a-c0c6-99ce3e70f0bc"
      },
      "execution_count": 30,
      "outputs": [
        {
          "output_type": "stream",
          "name": "stdout",
          "text": [
            "[SCALED] Optimized SVC Model's accuracy on training set is 87.81%\n",
            "[SCALED] Optimized SVC Model's accuracy on test set is 63.91%\n",
            "[minmax] Optimized SVC Model's accuracy on training set is 87.81%\n",
            "[minmax] Optimized SVC Model's accuracy on test set is 63.91%\n"
          ]
        }
      ]
    },
    {
      "cell_type": "markdown",
      "source": [
        "As theorized, the model's accuracy increased a lot by using the scaled data,\n",
        "\n",
        "87.81%/63.91% are percentages I'm satisfied with so that concludes this optimization and assignment"
      ],
      "metadata": {
        "id": "8TMukv8KtuP1"
      }
    },
    {
      "cell_type": "markdown",
      "source": [
        "Thank you for reading through all of the text! :D\n",
        "\n",
        "Repo link: https://github.com/sleepsim/Week3-Machine_Learning\n",
        "\n"
      ],
      "metadata": {
        "id": "FuhCeao3vYmD"
      }
    },
    {
      "cell_type": "markdown",
      "source": [
        "# Credits/References"
      ],
      "metadata": {
        "id": "an_C_J22vVIq"
      }
    },
    {
      "cell_type": "markdown",
      "source": [
        "- Week 3 Lab\n",
        "- https://www.sharpsightlabs.com/blog/scikit-train_test_split/\n",
        "- https://www.sharpsightlabs.com/blog/sklearn-fit/\n",
        "- https://scikit-learn.org/stable/modules/generated/sklearn.svm.SVC.html\n",
        "- https://scikit-learn.org/stable/modules/generated/sklearn.ensemble.RandomForestClassifier.html\n",
        "- https://scikit-learn.org/stable/modules/generated/sklearn.neighbors.KNeighborsClassifier.html"
      ],
      "metadata": {
        "id": "yPnLy9dPvcwX"
      }
    }
  ]
}